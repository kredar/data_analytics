{
 "cells": [
  {
   "cell_type": "code",
   "execution_count": 3,
   "metadata": {},
   "outputs": [],
   "source": [
    "import requests\n",
    "from bs4 import BeautifulSoup\n",
    "from selenium import webdriver"
   ]
  },
  {
   "cell_type": "code",
   "execution_count": 57,
   "metadata": {},
   "outputs": [],
   "source": [
    "def extract_job_postings_from_indeed(query, location):\n",
    "    # https://ca.indeed.com/jobs?q=product%20manager&l=Toronto%2C%20ON&from=searchOnHP\n",
    "    # https://ca.indeed.com/jobs?q=product%20manager&l=Toronto%2C%20ON&from=searchOnHP&vjk=2535f7845dd6e79a\n",
    "    # https://ca.indeed.com/jobs?q=product+manager&l=Toronto,+ON&from=searchOnHP&vjk=2535f7845dd6e79a\n",
    "    # https://ca.indeed.com/jobs?q=product+manager&l=Toronto,+ON&from=searchOnHP&vjk=2535f7845dd6e79a\n",
    "    # https://ca.indeed.com/jobs?q=product+manager&l=Toronto,+ON&from=searchOnHP&vjk=2535f7845dd6e79a\n",
    "    url = f\"https://ca.indeed.com/jobs?q={query}&l={location}&from=searchOnHP&vjk=2535f7845dd6e79a\"\n",
    "    # headers = {'User-Agent': 'Mozilla/5.0 (Windows NT 10.0; Win64; x64) AppleWebKit/537.36 (KHTML, like Gecko) Chrome/116.0.0.0 Safari/537.36 Edg/116.0.1938.54'}\n",
    "\n",
    "    # page = requests.get(url,headers=headers)\n",
    "    print(url)\n",
    "    # print(page)\n",
    "    driver = webdriver.Chrome() # or specify the path to your chromedriver executable\n",
    "    driver.get(url)\n",
    "    soup = BeautifulSoup(driver.page_source, \"html.parser\")\n",
    "    job_postings = []\n",
    "    \n",
    "\n",
    "    \n",
    "    return soup\n"
   ]
  },
  {
   "cell_type": "code",
   "execution_count": 50,
   "metadata": {},
   "outputs": [],
   "source": [
    "soup=extract_job_postings_from_indeed(\"product+manager\", \"Toronto,+ON\")"
   ]
  },
  {
   "cell_type": "code",
   "execution_count": 53,
   "metadata": {},
   "outputs": [
    {
     "name": "stdout",
     "output_type": "stream",
     "text": [
      "None\n",
      "[<div class=\"cardOutline tapItem dd-privacy-allow result job_aeba1f4c5b3db84c sponsoredJob resultWithShelf sponTapItem desktop css-kyg8or eu4oa1w0\"><div class=\"slider_container css-8xisqv eu4oa1w0\" dir=\"auto\"><div class=\"slider_list css-kyg8or eu4oa1w0\"><div class=\"slider_item css-kyg8or eu4oa1w0\"><div class=\"job_seen_beacon\" style=\"border-top:\"><table cellpadding=\"0\" cellspacing=\"0\" class=\"jobCard_mainContent big6_visualChanges\" role=\"presentation\"><tbody><tr><td class=\"resultContent\"><div class=\"css-1m4cuuf e37uo190\"><h2 class=\"jobTitle css-1u6tfqq eu4oa1w0\" tabindex=\"-1\"><a aria-label=\"full details of Product Manager\" class=\"jcs-JobTitle css-jspxzf eu4oa1w0\" data-ci=\"413896099\" data-empn=\"7934398381976770\" data-hide-spinner=\"true\" data-hiring-event=\"false\" data-jk=\"aeba1f4c5b3db84c\" data-mobtk=\"1hdbt92cik7ho800\" href=\"/pagead/clk?mo=r&amp;ad=-6NYlbfkN0CbsqV4nPa5cW9Sk0lHyu7WLJhPOPz8w9CGSWPecXx7M3rFAzBckv4T1ww_ZXRYIK4d9ZZ6CKm0u4r90pf3q7DVp1v0LicU6KtmS7A3kID7Y_gtGHcpAIh_RQIjyZFfrSLnLicxglkAmilaPXYhh6EG38J9UBQTomkbWUvS5ScNv_X7zfxKmI-P6pb_OLsS_6H_qpaWoZ3hINLRIdVsZ8NtXr6_ZxQGjm7WsRzYerkX1oiKrtDVkk2Epjakz3i4nlrdiNnFJYkn3KG1lQoE9kWeyPFtLKT84vXxQT2cUuGmOdwMzet9_UOEgIdkBUolA181Yrct6xzZSYwt6p2qIqHFRBTVnzfSfhxcgSkuEVCUwQ56F-URHHTX1kH2KsgTJISf4UFQp8K_pUo_vMRrahvHbVxG_l_VCp_x06q4fk16NPddvMfRrIjOX0qNjjhcIZcOJuZ-G6ItNzwR2FJa4BJtEXpOg4Xvbdfc95pPtZA83F9Z_EiTeZHHoHtj7wPUGrvf4CBeZVpz_1JrMrAZ0NWYC8LS3_VJJCHe_RHdBu_hQU3mUmu36xZBsa6ZzQAJ6hxBzXHzLGfF3qH7f2lsUu2Ge3A7Qpi2vr67_j-byrZem_ZvjGJf29Di0EOVCmrUyuYQ20gLnqsLqtzJEmiErLH8&amp;xkcb=SoDH-_M3JryrlCRJt50XbzkdCdPP&amp;p=0&amp;fvj=0&amp;vjs=3\" id=\"sj_aeba1f4c5b3db84c\" role=\"button\"><span id=\"jobTitle-aeba1f4c5b3db84c\" title=\"Product Manager\">Product Manager</span></a></h2></div><div class=\"heading6 company_location tapItem-gutter companyInfo\"><div elementtiming=\"significant-render\"><span class=\"companyName\">Ontario Health</span><div class=\"companyLocation\">Hybrid remote in Toronto, ON</div></div></div><div class=\"heading6 tapItem-gutter metadataContainer noJEMChips salaryOnly\"><div class=\"metadata\"><div class=\"css-1ihavw2 eu4oa1w0\" data-testid=\"attribute_snippet_testid\">Full-time</div></div></div><div class=\"heading6 error-text tapItem-gutter\"></div></td></tr></tbody></table><table class=\"css-1u8dvic eu4oa1w0\" role=\"presentation\"><tbody><tr class=\"css-mvf9iq eu4oa1w0\"></tr><tr class=\"underShelfFooter\"><td><div class=\"heading6 tapItem-gutter result-footer\"><div class=\"job-snippet\"><ul style=\"list-style-type:circle;margin-top: 0px;margin-bottom: 0px;padding-left:20px;\">\n",
      "<li>Independently engages and actively participates in team discussion with other internal <b>product</b> management teams to recommend <b>product</b> features and changes to…</li>\n",
      "</ul></div><span class=\"date\"><span class=\"visually-hidden\">Posted</span>Posted 30+ days ago</span></div></td></tr></tbody></table><div class=\"ctaContainer\"></div><div aria-live=\"polite\"></div></div></div><div class=\"slider_sub_item css-kyg8or eu4oa1w0\"></div></div></div><div aria-labelledby=\"jobActionButton-aeba1f4c5b3db84c jobTitle-aeba1f4c5b3db84c\" class=\"css-1sw7yod eu4oa1w0\" role=\"group\"><span aria-live=\"polite\" class=\"visually-hidden css-10pe3me eu4oa1w0\"></span><button aria-expanded=\"false\" aria-haspopup=\"true\" aria-label=\"Job Actions menu is collapsed\" class=\"kebabMenu-button css-1962qdo e8ju0x51\" id=\"jobActionButton-aeba1f4c5b3db84c\"><svg aria-hidden=\"true\" fill=\"none\" height=\"24\" role=\"presentation\" viewbox=\"0 0 24 24\" width=\"24\" xmlns=\"http://www.w3.org/2000/svg\"><path d=\"M12 7C13.1 7 14 6.1 14 5C14 3.9 13.1 3 12 3C10.9 3 10 3.9 10 5C10 6.1 10.9 7 12 7ZM12 10C10.9 10 10 10.9 10 12C10 13.1 10.9 14 12 14C13.1 14 14 13.1 14 12C14 10.9 13.1 10 12 10ZM12 17C10.9 17 10 17.9 10 19C10 20.1 10.9 21 12 21C13.1 21 14 20.1 14 19C14 17.9 13.1 17 12 17Z\" fill=\"#2d2d2d\"></path></svg></button></div></div>, <div class=\"cardOutline tapItem dd-privacy-allow result job_2535f7845dd6e79a sponsoredJob resultWithShelf sponTapItem desktop vjs-highlight css-kyg8or eu4oa1w0\"><div class=\"slider_container css-8xisqv eu4oa1w0\" dir=\"auto\"><div class=\"slider_list css-kyg8or eu4oa1w0\"><div class=\"slider_item css-kyg8or eu4oa1w0\"><div class=\"job_seen_beacon\" style=\"border-top:\"><div class=\"css-1titxtm eu4oa1w0\" data-testid=\"ad-unit-logo\"><img alt=\"\" class=\"css-t5dj4p eu4oa1w0\" src=\"https://d2q79iu7y748jz.cloudfront.net/s/_squarelogo/256x256/eeaea21da3f3e84aad5f35d8ede196db\"/></div><table cellpadding=\"0\" cellspacing=\"0\" class=\"jobCard_mainContent big6_visualChanges\" role=\"presentation\"><tbody><tr><td class=\"resultContent\"><div class=\"css-1m4cuuf e37uo190\"><h2 class=\"jobTitle css-1u6tfqq eu4oa1w0\" tabindex=\"-1\"><a aria-label=\"full details of Digital Product Manager/Owner\" class=\"jcs-JobTitle css-jspxzf eu4oa1w0\" data-ci=\"377045988\" data-empn=\"2995995202760697\" data-hide-spinner=\"true\" data-hiring-event=\"false\" data-jk=\"2535f7845dd6e79a\" data-mobtk=\"1hdbt92cik7ho800\" href=\"/pagead/clk?mo=r&amp;ad=-6NYlbfkN0CAu63qYmF4ruMsyyhkvi8oPoP2sFN7ueC2iu3o-4MDNmzeq_4XpHC_7JQ4fuLa9s0RDXyrLT11MDmjBT9boT0PWHa5BHIHB9TSDIiz3glYGwutJ8f2AHzDo3RtqdnKwbYxWkvKLDLhIQ0JNCGzFeSLT6x8-aEkDfdbMujCIt-uf3FdGmlc5IdPbd-C84uuo8NqwTLt1KrG3mY_0affg0To5Gks4pger8XBfm6Yv8sOvEf3zYMcIJVxBBUW284ZI1A4oJ-GJ8S5vheokAvM8yT2taq-1p0Wo3sjVlXWZHY-Q80I29Cb3nejr10cAzgCkdDiFWmN-NQPFx0W0fCXTc--UXMViVqBi-IANtWA74SKWmcG_fI41XP4dQwkUfdd9qr5HD5ZZAhE5I8yzPJIU1RLDC71a6Vqw1NRSVnqpmysizgi2nwp-KlC4b1n0RMxroZYZe4tdQz0Xm-WhO4002YIErpsbIHJ4NnTJ8-QhPa8umjEgLcVgV8WwlrEeFJfz6FQxpqU1fs2mlDL7jB0lcjjsP-9t5A43kVjGYM6nZnnxEhukVCTTKDwfOvejobLJ39EVIeG2njk48Brbm27YE6T5w2s5kavkRllQ-2_PXgcBo4yWmgtRKiu1hhK9jOPrZzNHaUZVsa2fofREdPopSLujnX8MRFO_BqJWVnoPHKbRSMi3ZuiZ2yTK8z98t9bpxampupSIk0qS1Ai0S9ftSLX1ngiQcip2O0npztQ0ooJooS8y4AUg_4d&amp;xkcb=SoBz-_M3JryrlCRJt50WbzkdCdPP&amp;p=1&amp;fvj=0&amp;vjs=3\" id=\"sj_2535f7845dd6e79a\" role=\"button\"><span id=\"jobTitle-2535f7845dd6e79a\" title=\"Digital Product Manager/Owner\">Digital Product Manager/Owner</span></a></h2></div><div class=\"heading6 company_location tapItem-gutter companyInfo\"><div><span class=\"companyName\">BMO Financial Group</span><div class=\"companyLocation\">Toronto, ON</div></div></div><div class=\"heading6 tapItem-gutter metadataContainer noJEMChips salaryOnly\"><div class=\"metadata\"><div class=\"css-1ihavw2 eu4oa1w0\" data-testid=\"attribute_snippet_testid\">Full-time</div></div></div><div class=\"heading6 error-text tapItem-gutter\"></div></td></tr></tbody></table><table class=\"css-1u8dvic eu4oa1w0\" role=\"presentation\"><tbody><tr class=\"css-mvf9iq eu4oa1w0\"></tr><tr class=\"underShelfFooter\"><td><div class=\"heading6 tapItem-gutter result-footer\"><div class=\"job-snippet\"><ul style=\"list-style-type:circle;margin-top: 0px;margin-bottom: 0px;padding-left:20px;\">\n",
      "<li>Supports the execution of strategic initiatives in collaboration with internal and external stakeholders (Product, Technology, Corporate Support Areas, business…</li>\n",
      "</ul></div><span class=\"date\"><span class=\"visually-hidden\">Posted</span>Posted 11 days ago</span></div></td></tr></tbody></table><div class=\"ctaContainer\"></div><div aria-live=\"polite\"></div></div></div><div class=\"slider_sub_item css-kyg8or eu4oa1w0\"></div></div></div><div aria-labelledby=\"jobActionButton-2535f7845dd6e79a jobTitle-2535f7845dd6e79a\" class=\"css-1sw7yod eu4oa1w0\" role=\"group\"><span aria-live=\"polite\" class=\"visually-hidden css-10pe3me eu4oa1w0\"></span><button aria-expanded=\"false\" aria-haspopup=\"true\" aria-label=\"Job Actions menu is collapsed\" class=\"kebabMenu-button css-1962qdo e8ju0x51\" id=\"jobActionButton-2535f7845dd6e79a\"><svg aria-hidden=\"true\" fill=\"none\" height=\"24\" role=\"presentation\" viewbox=\"0 0 24 24\" width=\"24\" xmlns=\"http://www.w3.org/2000/svg\"><path d=\"M12 7C13.1 7 14 6.1 14 5C14 3.9 13.1 3 12 3C10.9 3 10 3.9 10 5C10 6.1 10.9 7 12 7ZM12 10C10.9 10 10 10.9 10 12C10 13.1 10.9 14 12 14C13.1 14 14 13.1 14 12C14 10.9 13.1 10 12 10ZM12 17C10.9 17 10 17.9 10 19C10 20.1 10.9 21 12 21C13.1 21 14 20.1 14 19C14 17.9 13.1 17 12 17Z\" fill=\"#2d2d2d\"></path></svg></button></div></div>, <div class=\"cardOutline tapItem dd-privacy-allow result job_5cdad78631bb07b2 sponsoredJob resultWithShelf sponTapItem desktop css-kyg8or eu4oa1w0\"><div class=\"slider_container css-8xisqv eu4oa1w0\" dir=\"auto\"><div class=\"slider_list css-kyg8or eu4oa1w0\"><div class=\"slider_item css-kyg8or eu4oa1w0\"><div class=\"job_seen_beacon\" style=\"border-top:\"><table cellpadding=\"0\" cellspacing=\"0\" class=\"jobCard_mainContent big6_visualChanges\" role=\"presentation\"><tbody><tr><td class=\"resultContent\"><div class=\"css-1m4cuuf e37uo190\"><h2 class=\"jobTitle css-1u6tfqq eu4oa1w0\" tabindex=\"-1\"><a aria-label=\"full details of Product Manager, Mobile Experience - Remote\" class=\"jcs-JobTitle css-jspxzf eu4oa1w0\" data-ci=\"420257222\" data-empn=\"219511780256205\" data-hide-spinner=\"true\" data-hiring-event=\"false\" data-jk=\"5cdad78631bb07b2\" data-mobtk=\"1hdbt92cik7ho800\" href=\"/pagead/clk?mo=r&amp;ad=-6NYlbfkN0BXuQyu8a89IGjYOqzws6EwobUQWMJj07p0mQmaAEzBilJdrHs8wm-SLLdub9zHTR_iozz5LQDZ7Vu-Gkm-0q3Uj11yFQpdHnru4fivbB6SAr26xh3-dCXd9GOhihlJTGDuj0l2wYS5RyTdlDsvoIjOhIBxK36PE42YM90qsUcZBkF3NW-NGJmpECBD23_VezCiGTdlAMYAR1tsOmro4jsRXXXGYU4yFGVYNhIe7JBWwWkUwUdva51jMoTHmOn_eOEDp_7q_NhEfxEVsTff_QLiEO8xqjYBqaRKUuRXQIVTc8xYXJwuwrLJOi1iNu6XZvU4Dfzc1Oi1tXBNG6bnfz13co2TqxJPpnHvmq-K60WEDw9LWAajQGdcUfF3TFsR1qSe3IE26F93QY_tguZvHYkcZogmAPVHNg5ZJPF3qbi5juWrU-c2X9IUoxzo0_sEwuRMWRUKrvNWO173S-yODBlqVIYP4OUUV6ADkrqSwYd2_a1PiVe5klZQfQNGPgyiJ87erBEoMrygHc_8wEkte2HCeblZBsjE2yqGt7TrwQWbk3953NYzwY3jz_hXjOdk9pqAT-isVOiXMtu5USfeFBn8l42V7s6C0542j--mM7SK48GY_Q3PK1vItDhGZGWorDUGG3DSuS1WDgY3z777aeIXQMcZ1SK00XDk2Cr8S-wRHuYPoOZ_GE8rHmYDxu7_Gv41Hi5ngr9-qkr4r-Eb58Pd6JQHCH9cYH2g19VDzjcsod0_6kxQvx1OsUqIpENqQd8aYVjtJUyLP-GfN0-nBqF5ptIGdEutxHiCIRq_Jmis5V_5SBHV8Zf5UgsYbmbM5M0S1WLxYamkO9WzFNXIxmAAjgADlHkBMC1AMMRFo2LJ9YnUWR9Yphmi&amp;xkcb=SoDu-_M3JryrlCRJt50VbzkdCdPP&amp;p=2&amp;fvj=0&amp;vjs=3\" id=\"sj_5cdad78631bb07b2\" role=\"button\"><span id=\"jobTitle-5cdad78631bb07b2\" title=\"Product Manager, Mobile Experience - Remote\">Product Manager, Mobile Experience - Remote</span></a></h2></div><div class=\"heading6 company_location tapItem-gutter companyInfo\"><div><span class=\"companyName\">Dropbox</span><div class=\"companyLocation\">Remote in Toronto, ON</div></div></div><div class=\"heading6 error-text tapItem-gutter\"></div></td></tr></tbody></table><table class=\"css-1u8dvic eu4oa1w0\" role=\"presentation\"><tbody><tr class=\"css-mvf9iq eu4oa1w0\"></tr><tr class=\"underShelfFooter\"><td><div class=\"heading6 tapItem-gutter result-footer\"><div class=\"job-snippet\"><ul style=\"list-style-type:circle;margin-top: 0px;margin-bottom: 0px;padding-left:20px;\">\n",
      "<li>Responsibilities Define the <b>product</b> strategy to enhance the overall mobile experience Lead a cross-functional team in rapid execution to validate solutions and…</li>\n",
      "</ul></div><span class=\"date\"><span class=\"visually-hidden\">Posted</span>Posted 30+ days ago</span></div></td></tr></tbody></table><div class=\"ctaContainer\"></div><div aria-live=\"polite\"></div></div></div><div class=\"slider_sub_item css-kyg8or eu4oa1w0\"></div></div></div><div aria-labelledby=\"jobActionButton-5cdad78631bb07b2 jobTitle-5cdad78631bb07b2\" class=\"css-1sw7yod eu4oa1w0\" role=\"group\"><span aria-live=\"polite\" class=\"visually-hidden css-10pe3me eu4oa1w0\"></span><button aria-expanded=\"false\" aria-haspopup=\"true\" aria-label=\"Job Actions menu is collapsed\" class=\"kebabMenu-button css-1962qdo e8ju0x51\" id=\"jobActionButton-5cdad78631bb07b2\"><svg aria-hidden=\"true\" fill=\"none\" height=\"24\" role=\"presentation\" viewbox=\"0 0 24 24\" width=\"24\" xmlns=\"http://www.w3.org/2000/svg\"><path d=\"M12 7C13.1 7 14 6.1 14 5C14 3.9 13.1 3 12 3C10.9 3 10 3.9 10 5C10 6.1 10.9 7 12 7ZM12 10C10.9 10 10 10.9 10 12C10 13.1 10.9 14 12 14C13.1 14 14 13.1 14 12C14 10.9 13.1 10 12 10ZM12 17C10.9 17 10 17.9 10 19C10 20.1 10.9 21 12 21C13.1 21 14 20.1 14 19C14 17.9 13.1 17 12 17Z\" fill=\"#2d2d2d\"></path></svg></button></div></div>, <div class=\"cardOutline tapItem dd-privacy-allow result job_1af495cb65623579 sponsoredJob resultWithShelf sponTapItem desktop css-kyg8or eu4oa1w0\"><div class=\"slider_container css-8xisqv eu4oa1w0\" dir=\"auto\"><div class=\"slider_list css-kyg8or eu4oa1w0\"><div class=\"slider_item css-kyg8or eu4oa1w0\"><div class=\"job_seen_beacon\" style=\"border-top:\"><table cellpadding=\"0\" cellspacing=\"0\" class=\"jobCard_mainContent big6_visualChanges\" role=\"presentation\"><tbody><tr><td class=\"resultContent\"><div class=\"css-1m4cuuf e37uo190\"><h2 class=\"jobTitle css-1u6tfqq eu4oa1w0\" tabindex=\"-1\"><a aria-label=\"full details of Senior Product Manager\" class=\"jcs-JobTitle css-jspxzf eu4oa1w0\" data-ci=\"413896099\" data-empn=\"7934398381976770\" data-hide-spinner=\"true\" data-hiring-event=\"false\" data-jk=\"1af495cb65623579\" data-mobtk=\"1hdbt92cik7ho800\" href=\"/pagead/clk?mo=r&amp;ad=-6NYlbfkN0CbsqV4nPa5cW9Sk0lHyu7WLJhPOPz8w9CGSWPecXx7M3rFAzBckv4T1ww_ZXRYIK4d9ZZ6CKm0u_Yk1x2fWhO_OUG2JAHeW4j4dd5zpoOjH2CCYb2XbRMSyxQsmwEz5qwMCAXhIp3SiTR_LHvN5mLCQWF2XN4odyCubtDb9YQHokojSbhvfmQUGee1njR2FURxaVdZmd_WQf1zli4wOAM0m4kCKXqjnW7ekvY-R0bP5849vSt6MS6m2hEcuvzpHzVL9YWu1qiDLrkokcNq3qUY3E3cpdGStNDSWdJx7B2yAds_6KOjZYWU6di0XwihNrR5x_Ma8bHEXZQavIG9lcYeYq7fAC61BHn56CWwj3uyK7b7YR0uhYQOZ7XeNQsnRHCRYkQueCn9KEQ4GnXUZU8PRh1AEUpT5BXjk1amVSq9U6QdBQa5z_yPOWmBRqkkv6jvMFXBPTAZA4JrFoewy8KCDHZj-3cV45HnU-GFbwhH2uIZ_y_LM_3itud13XCEl1WlrLC8tbKZimAP2zZ5NibsmbnOmWA6yKQysAG7gVc2xGzfY4gNotLbSTIqd7NOpbKr1G_K0mykDUn3eqwdb9B5MkBNI-mXYl8hQLXY0getanrom-96jxSHUHhP0FKG_bi4-uU7LTMGouPzB2eRzdeVFBlm6iQpYPU=&amp;xkcb=SoBa-_M3JryrlCRJt50UbzkdCdPP&amp;p=3&amp;fvj=0&amp;vjs=3\" id=\"sj_1af495cb65623579\" role=\"button\"><span id=\"jobTitle-1af495cb65623579\" title=\"Senior Product Manager\">Senior Product Manager</span></a></h2></div><div class=\"heading6 company_location tapItem-gutter companyInfo\"><div><span class=\"companyName\">Ontario Health</span><div class=\"companyLocation\">Hybrid remote in Toronto, ON</div></div></div><div class=\"heading6 tapItem-gutter metadataContainer noJEMChips salaryOnly\"><div class=\"metadata\"><div class=\"css-1ihavw2 eu4oa1w0\" data-testid=\"attribute_snippet_testid\">Full-time</div></div></div><div class=\"heading6 error-text tapItem-gutter\"></div></td></tr></tbody></table><table class=\"css-1u8dvic eu4oa1w0\" role=\"presentation\"><tbody><tr class=\"css-mvf9iq eu4oa1w0\"></tr><tr class=\"underShelfFooter\"><td><div class=\"heading6 tapItem-gutter result-footer\"><div class=\"job-snippet\"><ul style=\"list-style-type:circle;margin-top: 0px;margin-bottom: 0px;padding-left:20px;\">\n",
      "<li>Conducts impact analysis for the <b>product</b> in development to determine impact on internal and external stakeholders and systems.</li>\n",
      "</ul></div><span class=\"date\"><span class=\"visually-hidden\">Posted</span>Posted 30+ days ago</span></div></td></tr></tbody></table><div class=\"ctaContainer\"></div><div aria-live=\"polite\"></div></div></div><div class=\"slider_sub_item css-kyg8or eu4oa1w0\"></div></div></div><div aria-labelledby=\"jobActionButton-1af495cb65623579 jobTitle-1af495cb65623579\" class=\"css-1sw7yod eu4oa1w0\" role=\"group\"><span aria-live=\"polite\" class=\"visually-hidden css-10pe3me eu4oa1w0\"></span><button aria-expanded=\"false\" aria-haspopup=\"true\" aria-label=\"Job Actions menu is collapsed\" class=\"kebabMenu-button css-1962qdo e8ju0x51\" id=\"jobActionButton-1af495cb65623579\"><svg aria-hidden=\"true\" fill=\"none\" height=\"24\" role=\"presentation\" viewbox=\"0 0 24 24\" width=\"24\" xmlns=\"http://www.w3.org/2000/svg\"><path d=\"M12 7C13.1 7 14 6.1 14 5C14 3.9 13.1 3 12 3C10.9 3 10 3.9 10 5C10 6.1 10.9 7 12 7ZM12 10C10.9 10 10 10.9 10 12C10 13.1 10.9 14 12 14C13.1 14 14 13.1 14 12C14 10.9 13.1 10 12 10ZM12 17C10.9 17 10 17.9 10 19C10 20.1 10.9 21 12 21C13.1 21 14 20.1 14 19C14 17.9 13.1 17 12 17Z\" fill=\"#2d2d2d\"></path></svg></button></div></div>, <div class=\"cardOutline tapItem dd-privacy-allow result job_da7b535c7b1328db sponsoredJob resultWithShelf sponTapItem desktop css-kyg8or eu4oa1w0\"><div class=\"slider_container css-8xisqv eu4oa1w0\" dir=\"auto\"><div class=\"slider_list css-kyg8or eu4oa1w0\"><div class=\"slider_item css-kyg8or eu4oa1w0\"><div class=\"job_seen_beacon\" style=\"border-top:\"><table cellpadding=\"0\" cellspacing=\"0\" class=\"jobCard_mainContent big6_visualChanges\" role=\"presentation\"><tbody><tr><td class=\"resultContent\"><div class=\"css-1m4cuuf e37uo190\"><h2 class=\"jobTitle css-1u6tfqq eu4oa1w0\" tabindex=\"-1\"><a aria-label=\"full details of Product Owner / Product Manager (Application Development)\" class=\"jcs-JobTitle css-jspxzf eu4oa1w0\" data-ci=\"415892749\" data-empn=\"1745803411922207\" data-hide-spinner=\"true\" data-hiring-event=\"false\" data-jk=\"da7b535c7b1328db\" data-mobtk=\"1hdbt92cik7ho800\" href=\"/pagead/clk?mo=r&amp;ad=-6NYlbfkN0CzONQW_pG8lUGR1ca7cgHPfBH9K7BY9bXOpV_44d85x5WayNH0C-zOR5pSYqCNNv-17WDTWsAlZS-vnNw8MxMgdlw6WjnLmUjqeqi02kohEy0jKiXWZf6txHUst4lkn9kRfy3piWE4d3-mGl34xr7AEp8GRNw5CDk0w3OWDI52qGntBjfllTTxMUUWF7BwonMACmNHst1FhMGZ37-nEfLygzSGMFgR_z46NYrvlkOj__oD9k6qxO7OdFwfOTcEIfVx86GLB5cqv72c3K6CZqJloahIUvio6vIIdLFegxe5oAIgpnkp7NRnv0LY59uVjKhsusC9WNTt3G0rE1GfztXKvoNFsdizxILLY-aUUeEjjsyGuJV_SsIqbuE2rx_I3NwoFr-ni7DSToTqnw2PpM73cFeXFrShMY3ab3G-H0PhQCxnLWlofV0FQJraFhNc2oweA-eolIhz1DGiX5MdIUEmVvMqF8JrftqeMk7DIF9mw6uogFiuzuwGyVFOTSumihSZcv4uvKnFJ4J2-pAX5K_fq7psLd9VjIJ7j_4nV9FFjL0d2d7L8uxOnJR7elE7PlFi1svXmul3NIfjoOizCXCUGeA_SDvd0UVvwmQjiu9vbksESrYLCWMkyIT9maUMbrVLMiFpLwjlgA==&amp;xkcb=SoDh-_M3JryrlCRJt50rbzkdCdPP&amp;p=4&amp;fvj=1&amp;vjs=3\" id=\"sj_da7b535c7b1328db\" role=\"button\"><span id=\"jobTitle-da7b535c7b1328db\" title=\"Product Owner / Product Manager (Application Development)\">Product Owner / Product Manager (Application Development)</span></a></h2></div><div class=\"heading6 company_location tapItem-gutter companyInfo\"><div><span class=\"companyName\">AFX INFRASTRUCTURE CONSULTING</span><div class=\"companyLocation\">Hybrid remote in Mississauga, ON</div></div></div><div class=\"heading6 tapItem-gutter metadataContainer noJEMChips salaryOnly\"><div class=\"metadata salary-snippet-container\"><div class=\"css-1ihavw2 eu4oa1w0\" data-testid=\"attribute_snippet_testid\">$75–$90 an hour</div></div><div class=\"metadata\"><div class=\"css-1ihavw2 eu4oa1w0\" data-testid=\"attribute_snippet_testid\">Full-time<span class=\"more-items css-77pif9 eu4oa1w0\" data-testid=\"more-items\"> <!-- -->+<!-- -->2</span></div></div><div class=\"metadata\"><div class=\"css-1ihavw2 eu4oa1w0\" data-testid=\"attribute_snippet_testid\">8 hour shift</div></div></div><div class=\"heading6 error-text tapItem-gutter\"></div></td></tr></tbody></table><table class=\"css-1u8dvic eu4oa1w0\" role=\"presentation\"><tbody><tr class=\"css-mvf9iq eu4oa1w0\"><td class=\"css-f0vvwa eu4oa1w0\"><span class=\"iaIcon\"></span><span class=\"ialbl iaTextBlack\" data-testid=\"indeedApply\">Easily apply</span></td><td class=\"css-f0vvwa eu4oa1w0\"><div class=\"css-1byn5be eu4oa1w0\"><span class=\"css-1jiglrs eu4oa1w0\"></span>Urgently hiring</div></td></tr><tr class=\"underShelfFooter\"><td><div class=\"heading6 tapItem-gutter result-footer\"><div class=\"job-snippet\"><ul style=\"list-style-type:circle;margin-top: 0px;margin-bottom: 0px;padding-left:20px;\">\n",
      "<li>Create strong relationships with other BSA team members, scrum teams, Architecture, DevOps, RTE and business stakeholders.</li>\n",
      "</ul></div><span class=\"date\"><span class=\"visually-hidden\">Employer</span>Active 1 day ago</span></div></td></tr></tbody></table><div class=\"ctaContainer\"></div><div aria-live=\"polite\"></div></div></div><div class=\"slider_sub_item css-kyg8or eu4oa1w0\"></div></div></div><div aria-labelledby=\"jobActionButton-da7b535c7b1328db jobTitle-da7b535c7b1328db\" class=\"css-1sw7yod eu4oa1w0\" role=\"group\"><span aria-live=\"polite\" class=\"visually-hidden css-10pe3me eu4oa1w0\"></span><button aria-expanded=\"false\" aria-haspopup=\"true\" aria-label=\"Job Actions menu is collapsed\" class=\"kebabMenu-button css-1962qdo e8ju0x51\" id=\"jobActionButton-da7b535c7b1328db\"><svg aria-hidden=\"true\" fill=\"none\" height=\"24\" role=\"presentation\" viewbox=\"0 0 24 24\" width=\"24\" xmlns=\"http://www.w3.org/2000/svg\"><path d=\"M12 7C13.1 7 14 6.1 14 5C14 3.9 13.1 3 12 3C10.9 3 10 3.9 10 5C10 6.1 10.9 7 12 7ZM12 10C10.9 10 10 10.9 10 12C10 13.1 10.9 14 12 14C13.1 14 14 13.1 14 12C14 10.9 13.1 10 12 10ZM12 17C10.9 17 10 17.9 10 19C10 20.1 10.9 21 12 21C13.1 21 14 20.1 14 19C14 17.9 13.1 17 12 17Z\" fill=\"#2d2d2d\"></path></svg></button></div></div>, <div class=\"cardOutline tapItem dd-privacy-allow result job_99d339d392425bc2 resultWithShelf sponTapItem desktop css-kyg8or eu4oa1w0\"><div class=\"slider_container css-8xisqv eu4oa1w0\" dir=\"auto\"><div class=\"slider_list css-kyg8or eu4oa1w0\"><div class=\"slider_item css-kyg8or eu4oa1w0\"><div class=\"job_seen_beacon\" style=\"border-top:\"><table cellpadding=\"0\" cellspacing=\"0\" class=\"jobCard_mainContent big6_visualChanges\" role=\"presentation\"><tbody><tr><td class=\"resultContent\"><div class=\"css-1m4cuuf e37uo190\"><h2 class=\"jobTitle css-1u6tfqq eu4oa1w0\" tabindex=\"-1\"><a aria-label=\"full details of Lead Product Manager\" class=\"jcs-JobTitle css-jspxzf eu4oa1w0\" data-hide-spinner=\"true\" data-hiring-event=\"false\" data-jk=\"99d339d392425bc2\" data-mobtk=\"1hdbt92cik7ho800\" href=\"/rc/clk?jk=99d339d392425bc2&amp;fccid=d44fc649871339c4&amp;vjs=3\" id=\"job_99d339d392425bc2\" role=\"button\"><span id=\"jobTitle-99d339d392425bc2\" title=\"Lead Product Manager\">Lead Product Manager</span></a></h2></div><div class=\"heading6 company_location tapItem-gutter companyInfo\"><div><span class=\"companyName\">HONK</span><div class=\"companyLocation\">Remote in Toronto, ON</div></div></div><div class=\"heading6 tapItem-gutter metadataContainer noJEMChips salaryOnly\"><div class=\"metadata salary-snippet-container\"><div class=\"css-1ihavw2 eu4oa1w0\" data-testid=\"attribute_snippet_testid\">$100,000–$140,000 a year</div></div><div class=\"metadata\"><div class=\"css-1ihavw2 eu4oa1w0\" data-testid=\"attribute_snippet_testid\">Full-time</div></div></div><div class=\"heading6 error-text tapItem-gutter\"></div></td></tr></tbody></table><table class=\"css-1u8dvic eu4oa1w0\" role=\"presentation\"><tbody><tr class=\"css-mvf9iq eu4oa1w0\"><td class=\"css-f0vvwa eu4oa1w0\"><span class=\"iaIcon\"></span><span class=\"ialbl iaTextBlack\" data-testid=\"indeedApply\">Easily apply</span></td></tr><tr class=\"underShelfFooter\"><td><div class=\"heading6 tapItem-gutter result-footer\"><div class=\"job-snippet\"><ul style=\"list-style-type:circle;margin-top: 0px;margin-bottom: 0px;padding-left:20px;\">\n",
      "<li>Working closely with our sales, marketing, and operations teams, you'll translate their needs into <b>product</b> requirements while keeping them informed about our…</li>\n",
      "</ul></div><span class=\"date\"><span class=\"visually-hidden\">Employer</span>Active 8 days ago</span><span class=\"result-link-bar-separator\">·</span><button aria-expanded=\"false\" class=\"sl resultLink more_links_button\" type=\"button\">More...</button></div><div class=\"tab-container\"><div class=\"more-links-container result-tab\"><div class=\"more_links\"><button aria-label=\"Close\" class=\"close-button\" title=\"Close\" type=\"button\"></button><ul><li><span class=\"mat\">View all <a class=\"css-1f8zkg3 e19afand0\" href=\"/q-honk-jobs.html\">HONK jobs</a> - <a class=\"css-1f8zkg3 e19afand0\" href=\"/l-toronto,-on-jobs.html\">Toronto jobs</a></span></li><li><span class=\"mat\">Salary Search: <a class=\"css-1f8zkg3 e19afand0\" href=\"/career/lead-product-manager/salaries/Toronto--ON?campaignid=serp-more&amp;fromjk=99d339d392425bc2&amp;from=serp-more\">Lead Product Manager salaries in Toronto, ON</a></span></li></ul></div></div></div></td></tr></tbody></table><div class=\"ctaContainer\"></div><div aria-live=\"polite\"></div></div></div><div class=\"slider_sub_item css-kyg8or eu4oa1w0\"></div></div></div><div aria-labelledby=\"jobActionButton-99d339d392425bc2 jobTitle-99d339d392425bc2\" class=\"css-1sw7yod eu4oa1w0\" role=\"group\"><span aria-live=\"polite\" class=\"visually-hidden css-10pe3me eu4oa1w0\"></span><button aria-expanded=\"false\" aria-haspopup=\"true\" aria-label=\"Job Actions menu is collapsed\" class=\"kebabMenu-button css-1962qdo e8ju0x51\" id=\"jobActionButton-99d339d392425bc2\"><svg aria-hidden=\"true\" fill=\"none\" height=\"24\" role=\"presentation\" viewbox=\"0 0 24 24\" width=\"24\" xmlns=\"http://www.w3.org/2000/svg\"><path d=\"M12 7C13.1 7 14 6.1 14 5C14 3.9 13.1 3 12 3C10.9 3 10 3.9 10 5C10 6.1 10.9 7 12 7ZM12 10C10.9 10 10 10.9 10 12C10 13.1 10.9 14 12 14C13.1 14 14 13.1 14 12C14 10.9 13.1 10 12 10ZM12 17C10.9 17 10 17.9 10 19C10 20.1 10.9 21 12 21C13.1 21 14 20.1 14 19C14 17.9 13.1 17 12 17Z\" fill=\"#2d2d2d\"></path></svg></button></div></div>, <div class=\"cardOutline tapItem dd-privacy-allow result job_78c55875a98c108b resultWithShelf sponTapItem desktop css-kyg8or eu4oa1w0\"><div class=\"slider_container css-8xisqv eu4oa1w0\" dir=\"auto\"><div class=\"slider_list css-kyg8or eu4oa1w0\"><div class=\"slider_item css-kyg8or eu4oa1w0\"><div class=\"job_seen_beacon\" style=\"border-top:\"><table cellpadding=\"0\" cellspacing=\"0\" class=\"jobCard_mainContent big6_visualChanges\" role=\"presentation\"><tbody><tr><td class=\"resultContent\"><div class=\"css-1m4cuuf e37uo190\"><h2 class=\"jobTitle css-1u6tfqq eu4oa1w0\" tabindex=\"-1\"><a aria-label=\"full details of Product Manager - Educators\" class=\"jcs-JobTitle css-jspxzf eu4oa1w0\" data-hide-spinner=\"true\" data-hiring-event=\"false\" data-jk=\"78c55875a98c108b\" data-mobtk=\"1hdbt92cik7ho800\" href=\"/rc/clk?jk=78c55875a98c108b&amp;fccid=d1efe82d87f0681f&amp;vjs=3\" id=\"job_78c55875a98c108b\" role=\"button\"><span id=\"jobTitle-78c55875a98c108b\" title=\"Product Manager - Educators\">Product Manager - Educators</span></a></h2></div><div class=\"heading6 company_location tapItem-gutter companyInfo\"><div><span class=\"companyName\">Prodigy Education</span><div class=\"companyLocation\">Remote in Greater Toronto Area, ON</div></div></div><div class=\"heading6 tapItem-gutter metadataContainer noJEMChips salaryOnly\"><div class=\"metadata\"><div class=\"css-1ihavw2 eu4oa1w0\" data-testid=\"attribute_snippet_testid\">Full-time</div></div></div><div class=\"heading6 error-text tapItem-gutter\"></div></td></tr></tbody></table><table class=\"css-1u8dvic eu4oa1w0\" role=\"presentation\"><tbody><tr class=\"css-mvf9iq eu4oa1w0\"></tr><tr class=\"underShelfFooter\"><td><div class=\"heading6 tapItem-gutter result-footer\"><div class=\"job-snippet\"><ul style=\"list-style-type:circle;margin-top: 0px;margin-bottom: 0px;padding-left:20px;\">\n",
      "<li style=\"margin-bottom:0px;\">Experience using user research and metrics to add significant value to a product.</li>\n",
      "<li>Solid written and verbal communication skills with the ability to present a…</li>\n",
      "</ul></div><span class=\"date\"><span class=\"visually-hidden\">Posted</span>Posted 1 day ago</span><span class=\"result-link-bar-separator\">·</span><button aria-expanded=\"false\" class=\"sl resultLink more_links_button\" type=\"button\">More...</button></div><div class=\"tab-container\"><div class=\"more-links-container result-tab\"><div class=\"more_links\"><button aria-label=\"Close\" class=\"close-button\" title=\"Close\" type=\"button\"></button><ul><li><span class=\"mat\">View all <a class=\"css-1f8zkg3 e19afand0\" href=\"/q-prodigy-education-jobs.html\">Prodigy Education jobs</a> - <a class=\"css-1f8zkg3 e19afand0\" href=\"/l-greater-toronto-area,-on-jobs.html\">Greater Toronto Area jobs</a> - <a class=\"css-1f8zkg3 e19afand0\" href=\"/q-product-manager-l-greater-toronto-area,-on-jobs.html\">Product Manager jobs in Greater Toronto Area, ON</a></span></li><li><span class=\"mat\">Salary Search: <a class=\"css-1f8zkg3 e19afand0\" href=\"/career/product-manager/salaries/Greater-Toronto-Area--ON?campaignid=serp-more&amp;fromjk=78c55875a98c108b&amp;from=serp-more\">Product Manager - Educators salaries in Greater Toronto Area, ON</a></span></li><li><span class=\"mat\">See popular <a class=\"css-1f8zkg3 e19afand0\" href=\"/cmp/Prodigy-Education/faq\">questions &amp; answers about Prodigy Education</a></span></li></ul></div></div></div></td></tr></tbody></table><div class=\"ctaContainer\"></div><div aria-live=\"polite\"></div></div></div><div class=\"slider_sub_item css-kyg8or eu4oa1w0\"></div></div></div><div aria-labelledby=\"jobActionButton-78c55875a98c108b jobTitle-78c55875a98c108b\" class=\"css-1sw7yod eu4oa1w0\" role=\"group\"><span aria-live=\"polite\" class=\"visually-hidden css-10pe3me eu4oa1w0\"></span><button aria-expanded=\"false\" aria-haspopup=\"true\" aria-label=\"Job Actions menu is collapsed\" class=\"kebabMenu-button css-1962qdo e8ju0x51\" id=\"jobActionButton-78c55875a98c108b\"><svg aria-hidden=\"true\" fill=\"none\" height=\"24\" role=\"presentation\" viewbox=\"0 0 24 24\" width=\"24\" xmlns=\"http://www.w3.org/2000/svg\"><path d=\"M12 7C13.1 7 14 6.1 14 5C14 3.9 13.1 3 12 3C10.9 3 10 3.9 10 5C10 6.1 10.9 7 12 7ZM12 10C10.9 10 10 10.9 10 12C10 13.1 10.9 14 12 14C13.1 14 14 13.1 14 12C14 10.9 13.1 10 12 10ZM12 17C10.9 17 10 17.9 10 19C10 20.1 10.9 21 12 21C13.1 21 14 20.1 14 19C14 17.9 13.1 17 12 17Z\" fill=\"#2d2d2d\"></path></svg></button></div></div>, <div class=\"cardOutline tapItem dd-privacy-allow result job_4e366fcf793ff1e4 sponsoredJob resultWithShelf sponTapItem desktop css-kyg8or eu4oa1w0\"><div class=\"slider_container css-8xisqv eu4oa1w0\" dir=\"auto\"><div class=\"slider_list css-kyg8or eu4oa1w0\"><div class=\"slider_item css-kyg8or eu4oa1w0\"><div class=\"job_seen_beacon\" style=\"border-top:\"><table cellpadding=\"0\" cellspacing=\"0\" class=\"jobCard_mainContent big6_visualChanges\" role=\"presentation\"><tbody><tr><td class=\"resultContent\"><div class=\"css-1m4cuuf e37uo190\"><h2 class=\"jobTitle css-1u6tfqq eu4oa1w0\" tabindex=\"-1\"><a aria-label=\"full details of Senior Specialist, Product Implementation\" class=\"jcs-JobTitle css-jspxzf eu4oa1w0\" data-ci=\"413896099\" data-empn=\"7934398381976770\" data-hide-spinner=\"true\" data-hiring-event=\"false\" data-jk=\"4e366fcf793ff1e4\" data-mobtk=\"1hdbt92cik7ho800\" href=\"/pagead/clk?mo=r&amp;ad=-6NYlbfkN0CbsqV4nPa5cW9Sk0lHyu7WLJhPOPz8w9CGSWPecXx7M3rFAzBckv4T1ww_ZXRYIK57MgQaoSmarpunrLJU0hdSKnYd4OUHB800ijigagJrutVaOgUm2qtb5orbO-Nq_6VhF14lmDl_ww30ttS1GnsZ66hoZ0oRoLZOThRmgpit-5CaPdCiyC8drO81SV17lZ-61tUW4DKES_2GRhL6p7Hfn1jIl3SjiFPjd7D57bSmnc7gES5yh7_Ej-CQcPCqx5z-SK2ekXb1QhY8gd-ox4jEG5svSQDEJE7mVt8sfcTzXpL8jLgXlqQnT1kLnEghiBL60rCZb_G2b_w5Dzi7-F-bnRNA2x6Cqhc9ylEKLl81V_z2_lKMADNT2O9jxxOZJCMntaCjL3kQVcu1RDu8aioWIEBUan15qxCaFKW7LzFQW-AUeC33QCGbIWsn2QPXW9jNm4138-GS2MJknSeKKC0q78B6zOJo-OMBTUyKBlYO1HnCa9aD4iAwKUT4EeFjsAhPGFaRfKI3T1EWkAKqy3kcwSmof77tKZtwpfaG7XSN2xHlxYJQrYgDJrmpt8hXNh6-YHf8qA70EvqRm6T1CBqaP7A6Kxg_bW0DnAFkhHYt8EAlqXUX63G9y-LRk7w2YCC02_tbL_MtWjo_rmHMQqYfp6mAh19IzqX8xMtiE0iKnG3tsLZLuyIE&amp;xkcb=SoB8-_M3JryrlCRJt50obzkdCdPP&amp;p=7&amp;fvj=0&amp;vjs=3\" id=\"sj_4e366fcf793ff1e4\" role=\"button\"><span id=\"jobTitle-4e366fcf793ff1e4\" title=\"Senior Specialist, Product Implementation\">Senior Specialist, Product Implementation</span></a></h2></div><div class=\"heading6 company_location tapItem-gutter companyInfo\"><div><span class=\"companyName\">Ontario Health</span><div class=\"companyLocation\">Hybrid remote in Ontario</div></div></div><div class=\"heading6 tapItem-gutter metadataContainer noJEMChips salaryOnly\"><div class=\"metadata\"><div class=\"css-1ihavw2 eu4oa1w0\" data-testid=\"attribute_snippet_testid\">Full-time</div></div></div><div class=\"heading6 error-text tapItem-gutter\"></div></td></tr></tbody></table><table class=\"css-1u8dvic eu4oa1w0\" role=\"presentation\"><tbody><tr class=\"css-mvf9iq eu4oa1w0\"></tr><tr class=\"underShelfFooter\"><td><div class=\"heading6 tapItem-gutter result-footer\"><div class=\"job-snippet\"><ul style=\"list-style-type:circle;margin-top: 0px;margin-bottom: 0px;padding-left:20px;\">\n",
      "<li>Conducts impact analysis for the <b>product</b> on internal and external stakeholders and systems; including communication plan to ensure buy-in and awareness of the…</li>\n",
      "</ul></div><span class=\"date\"><span class=\"visually-hidden\">Posted</span>Posted 30+ days ago</span></div></td></tr></tbody></table><div class=\"ctaContainer\"></div><div aria-live=\"polite\"></div></div></div><div class=\"slider_sub_item css-kyg8or eu4oa1w0\"></div></div></div><div aria-labelledby=\"jobActionButton-4e366fcf793ff1e4 jobTitle-4e366fcf793ff1e4\" class=\"css-1sw7yod eu4oa1w0\" role=\"group\"><span aria-live=\"polite\" class=\"visually-hidden css-10pe3me eu4oa1w0\"></span><button aria-expanded=\"false\" aria-haspopup=\"true\" aria-label=\"Job Actions menu is collapsed\" class=\"kebabMenu-button css-1962qdo e8ju0x51\" id=\"jobActionButton-4e366fcf793ff1e4\"><svg aria-hidden=\"true\" fill=\"none\" height=\"24\" role=\"presentation\" viewbox=\"0 0 24 24\" width=\"24\" xmlns=\"http://www.w3.org/2000/svg\"><path d=\"M12 7C13.1 7 14 6.1 14 5C14 3.9 13.1 3 12 3C10.9 3 10 3.9 10 5C10 6.1 10.9 7 12 7ZM12 10C10.9 10 10 10.9 10 12C10 13.1 10.9 14 12 14C13.1 14 14 13.1 14 12C14 10.9 13.1 10 12 10ZM12 17C10.9 17 10 17.9 10 19C10 20.1 10.9 21 12 21C13.1 21 14 20.1 14 19C14 17.9 13.1 17 12 17Z\" fill=\"#2d2d2d\"></path></svg></button></div></div>, <div class=\"cardOutline tapItem dd-privacy-allow result job_aaadfeb5c2a5fcf7 resultWithShelf sponTapItem desktop css-kyg8or eu4oa1w0\"><div class=\"slider_container css-8xisqv eu4oa1w0\" dir=\"auto\"><div class=\"slider_list css-kyg8or eu4oa1w0\"><div class=\"slider_item css-kyg8or eu4oa1w0\"><div class=\"job_seen_beacon\" style=\"border-top:\"><table cellpadding=\"0\" cellspacing=\"0\" class=\"jobCard_mainContent big6_visualChanges\" role=\"presentation\"><tbody><tr><td class=\"resultContent\"><div class=\"css-1m4cuuf e37uo190\"><h2 class=\"jobTitle css-1u6tfqq eu4oa1w0\" tabindex=\"-1\"><a aria-label=\"full details of Intern, Product Management\" class=\"jcs-JobTitle css-jspxzf eu4oa1w0\" data-hide-spinner=\"true\" data-hiring-event=\"false\" data-jk=\"aaadfeb5c2a5fcf7\" data-mobtk=\"1hdbt92cik7ho800\" href=\"/rc/clk?jk=aaadfeb5c2a5fcf7&amp;fccid=10b5c722d846df43&amp;vjs=3\" id=\"job_aaadfeb5c2a5fcf7\" role=\"button\"><span id=\"jobTitle-aaadfeb5c2a5fcf7\" title=\"Intern, Product Management\">Intern, Product Management</span></a></h2></div><div class=\"heading6 company_location tapItem-gutter companyInfo\"><div><span class=\"companyName\">Mastercard</span><div class=\"companyLocation\">Toronto, ON</div></div></div><div class=\"heading6 tapItem-gutter metadataContainer noJEMChips salaryOnly\"><div class=\"metadata\"><div class=\"css-1ihavw2 eu4oa1w0\" data-testid=\"attribute_snippet_testid\">Full-time</div></div></div><div class=\"heading6 error-text tapItem-gutter\"></div></td></tr></tbody></table><table class=\"css-1u8dvic eu4oa1w0\" role=\"presentation\"><tbody><tr class=\"css-mvf9iq eu4oa1w0\"></tr><tr class=\"underShelfFooter\"><td><div class=\"heading6 tapItem-gutter result-footer\"><div class=\"job-snippet\"><ul style=\"list-style-type:circle;margin-top: 0px;margin-bottom: 0px;padding-left:20px;\">\n",
      "<li>Maintain a compendium of Canadian research and Canadian specific statistics to be used in customer presentations, speaking opportunities, research etc.</li>\n",
      "</ul></div><span class=\"date\"><span class=\"visually-hidden\">Posted</span>Posted 3 days ago</span><span class=\"result-link-bar-separator\">·</span><button aria-expanded=\"false\" class=\"sl resultLink more_links_button\" type=\"button\">More...</button></div><div class=\"tab-container\"><div class=\"more-links-container result-tab\"><div class=\"more_links\"><button aria-label=\"Close\" class=\"close-button\" title=\"Close\" type=\"button\"></button><ul><li><span class=\"mat\">View all <a class=\"css-1f8zkg3 e19afand0\" href=\"/q-mastercard-jobs.html\">Mastercard jobs</a> - <a class=\"css-1f8zkg3 e19afand0\" href=\"/l-toronto,-on-jobs.html\">Toronto jobs</a> - <a class=\"css-1f8zkg3 e19afand0\" href=\"/q-intern-product-manager-l-toronto,-on-jobs.html\">Intern Product Manager jobs in Toronto, ON</a></span></li><li><span class=\"mat\">Salary Search: <a class=\"css-1f8zkg3 e19afand0\" href=\"/career/salaries/Intern%20Product%20Manager/Toronto,%20ON?campaignid=serp-more&amp;fromjk=aaadfeb5c2a5fcf7&amp;from=serp-more\">Intern, Product Management salaries</a></span></li><li><span class=\"mat\">See popular <a class=\"css-1f8zkg3 e19afand0\" href=\"/cmp/Mastercard/faq\">questions &amp; answers about Mastercard</a></span></li></ul></div></div></div></td></tr></tbody></table><div class=\"ctaContainer\"></div><div aria-live=\"polite\"></div></div></div><div class=\"slider_sub_item css-kyg8or eu4oa1w0\"></div></div></div><div aria-labelledby=\"jobActionButton-aaadfeb5c2a5fcf7 jobTitle-aaadfeb5c2a5fcf7\" class=\"css-1sw7yod eu4oa1w0\" role=\"group\"><span aria-live=\"polite\" class=\"visually-hidden css-10pe3me eu4oa1w0\"></span><button aria-expanded=\"false\" aria-haspopup=\"true\" aria-label=\"Job Actions menu is collapsed\" class=\"kebabMenu-button css-1962qdo e8ju0x51\" id=\"jobActionButton-aaadfeb5c2a5fcf7\"><svg aria-hidden=\"true\" fill=\"none\" height=\"24\" role=\"presentation\" viewbox=\"0 0 24 24\" width=\"24\" xmlns=\"http://www.w3.org/2000/svg\"><path d=\"M12 7C13.1 7 14 6.1 14 5C14 3.9 13.1 3 12 3C10.9 3 10 3.9 10 5C10 6.1 10.9 7 12 7ZM12 10C10.9 10 10 10.9 10 12C10 13.1 10.9 14 12 14C13.1 14 14 13.1 14 12C14 10.9 13.1 10 12 10ZM12 17C10.9 17 10 17.9 10 19C10 20.1 10.9 21 12 21C13.1 21 14 20.1 14 19C14 17.9 13.1 17 12 17Z\" fill=\"#2d2d2d\"></path></svg></button></div></div>, <div class=\"cardOutline tapItem dd-privacy-allow result job_c431103b8f7de4ac resultWithShelf sponTapItem desktop css-kyg8or eu4oa1w0\"><div class=\"slider_container css-8xisqv eu4oa1w0\" dir=\"auto\"><div class=\"slider_list css-kyg8or eu4oa1w0\"><div class=\"slider_item css-kyg8or eu4oa1w0\"><div class=\"job_seen_beacon\" style=\"border-top:\"><table cellpadding=\"0\" cellspacing=\"0\" class=\"jobCard_mainContent big6_visualChanges\" role=\"presentation\"><tbody><tr><td class=\"resultContent\"><div class=\"css-1m4cuuf e37uo190\"><h2 class=\"jobTitle css-1u6tfqq eu4oa1w0\" tabindex=\"-1\"><a aria-label=\"full details of Senior Product Manager\" class=\"jcs-JobTitle css-jspxzf eu4oa1w0\" data-hide-spinner=\"true\" data-hiring-event=\"false\" data-jk=\"c431103b8f7de4ac\" data-mobtk=\"1hdbt92cik7ho800\" href=\"/rc/clk?jk=c431103b8f7de4ac&amp;fccid=734cb5a01ee60f80&amp;vjs=3\" id=\"job_c431103b8f7de4ac\" role=\"button\"><span id=\"jobTitle-c431103b8f7de4ac\" title=\"Senior Product Manager\">Senior Product Manager</span></a></h2></div><div class=\"heading6 company_location tapItem-gutter companyInfo\"><div><span class=\"companyName\">Microsoft</span><div class=\"companyLocation\">Toronto, ON</div></div></div><div class=\"heading6 tapItem-gutter metadataContainer noJEMChips salaryOnly\"><div class=\"metadata\"><div class=\"css-1ihavw2 eu4oa1w0\" data-testid=\"attribute_snippet_testid\">Full-time</div></div></div><div class=\"heading6 error-text tapItem-gutter\"></div></td></tr></tbody></table><table class=\"css-1u8dvic eu4oa1w0\" role=\"presentation\"><tbody><tr class=\"css-mvf9iq eu4oa1w0\"></tr><tr class=\"underShelfFooter\"><td><div class=\"heading6 tapItem-gutter result-footer\"><div class=\"job-snippet\"><ul style=\"list-style-type:circle;margin-top: 0px;margin-bottom: 0px;padding-left:20px;\">\n",
      "<li>Bachelor’s Degree AND 5+ years experience in product/service/project/program management/software development or <b>product</b> management shipping enterprise/B2B…</li>\n",
      "</ul></div><span class=\"date\"><span class=\"visually-hidden\">Posted</span>Posted 19 days ago</span><span class=\"result-link-bar-separator\">·</span><button aria-expanded=\"false\" class=\"sl resultLink more_links_button\" type=\"button\">More...</button></div><div class=\"tab-container\"><div class=\"more-links-container result-tab\"><div class=\"more_links\"><button aria-label=\"Close\" class=\"close-button\" title=\"Close\" type=\"button\"></button><ul><li><span class=\"mat\">View all <a class=\"css-1f8zkg3 e19afand0\" href=\"/q-microsoft-jobs.html\">Microsoft jobs</a> - <a class=\"css-1f8zkg3 e19afand0\" href=\"/l-toronto,-on-jobs.html\">Toronto jobs</a></span></li><li><span class=\"mat\">Salary Search: <a class=\"css-1f8zkg3 e19afand0\" href=\"/career/senior-product-manager/salaries/Toronto--ON?campaignid=serp-more&amp;fromjk=c431103b8f7de4ac&amp;from=serp-more\">Senior Product Manager salaries in Toronto, ON</a></span></li><li><span class=\"mat\">See popular <a class=\"css-1f8zkg3 e19afand0\" href=\"/cmp/Microsoft/faq\">questions &amp; answers about Microsoft</a></span></li></ul></div></div></div></td></tr></tbody></table><div class=\"ctaContainer\"></div><div aria-live=\"polite\"></div></div></div><div class=\"slider_sub_item css-kyg8or eu4oa1w0\"></div></div></div><div aria-labelledby=\"jobActionButton-c431103b8f7de4ac jobTitle-c431103b8f7de4ac\" class=\"css-1sw7yod eu4oa1w0\" role=\"group\"><span aria-live=\"polite\" class=\"visually-hidden css-10pe3me eu4oa1w0\"></span><button aria-expanded=\"false\" aria-haspopup=\"true\" aria-label=\"Job Actions menu is collapsed\" class=\"kebabMenu-button css-1962qdo e8ju0x51\" id=\"jobActionButton-c431103b8f7de4ac\"><svg aria-hidden=\"true\" fill=\"none\" height=\"24\" role=\"presentation\" viewbox=\"0 0 24 24\" width=\"24\" xmlns=\"http://www.w3.org/2000/svg\"><path d=\"M12 7C13.1 7 14 6.1 14 5C14 3.9 13.1 3 12 3C10.9 3 10 3.9 10 5C10 6.1 10.9 7 12 7ZM12 10C10.9 10 10 10.9 10 12C10 13.1 10.9 14 12 14C13.1 14 14 13.1 14 12C14 10.9 13.1 10 12 10ZM12 17C10.9 17 10 17.9 10 19C10 20.1 10.9 21 12 21C13.1 21 14 20.1 14 19C14 17.9 13.1 17 12 17Z\" fill=\"#2d2d2d\"></path></svg></button></div></div>, <div class=\"cardOutline tapItem dd-privacy-allow result job_bd66ddb33329eb0e resultWithShelf sponTapItem desktop css-kyg8or eu4oa1w0\"><div class=\"slider_container css-8xisqv eu4oa1w0\" dir=\"auto\"><div class=\"slider_list css-kyg8or eu4oa1w0\"><div class=\"slider_item css-kyg8or eu4oa1w0\"><div class=\"job_seen_beacon\" style=\"border-top:\"><table cellpadding=\"0\" cellspacing=\"0\" class=\"jobCard_mainContent big6_visualChanges\" role=\"presentation\"><tbody><tr><td class=\"resultContent\"><div class=\"css-1m4cuuf e37uo190\"><h2 class=\"jobTitle css-1u6tfqq eu4oa1w0\" tabindex=\"-1\"><a aria-label=\"full details of Senior Product Manager - Local Biz, Monetization (Remote - Canada)\" class=\"jcs-JobTitle css-jspxzf eu4oa1w0\" data-hide-spinner=\"true\" data-hiring-event=\"false\" data-jk=\"bd66ddb33329eb0e\" data-mobtk=\"1hdbt92cik7ho800\" href=\"/rc/clk?jk=bd66ddb33329eb0e&amp;fccid=0e94073a1c937bd1&amp;vjs=3\" id=\"job_bd66ddb33329eb0e\" role=\"button\"><span id=\"jobTitle-bd66ddb33329eb0e\" title=\"Senior Product Manager - Local Biz, Monetization (Remote - Canada)\">Senior Product Manager - Local Biz, Monetization (Remote - Canada)</span></a></h2></div><div class=\"heading6 company_location tapItem-gutter companyInfo\"><div><span class=\"companyName\">Yelp</span><div class=\"companyLocation\">Remote in Toronto, ON</div></div></div><div class=\"heading6 tapItem-gutter metadataContainer noJEMChips salaryOnly\"><div class=\"metadata\"><div class=\"css-1ihavw2 eu4oa1w0\" data-testid=\"attribute_snippet_testid\">Full-time</div></div></div><div class=\"heading6 error-text tapItem-gutter\"></div></td></tr></tbody></table><table class=\"css-1u8dvic eu4oa1w0\" role=\"presentation\"><tbody><tr class=\"css-mvf9iq eu4oa1w0\"></tr><tr class=\"underShelfFooter\"><td><div class=\"heading6 tapItem-gutter result-footer\"><div class=\"job-snippet\"><ul style=\"list-style-type:circle;margin-top: 0px;margin-bottom: 0px;padding-left:20px;\">\n",
      "<li>Define long-term roadmaps, prioritize features and evangelize <b>product</b> launches to executives, <b>product</b> <b>managers</b>, sales, business development, go-to-market team,…</li>\n",
      "</ul></div><span class=\"date\"><span class=\"visually-hidden\">Posted</span>Posted 22 days ago</span><span class=\"result-link-bar-separator\">·</span><button aria-expanded=\"false\" class=\"sl resultLink more_links_button\" type=\"button\">More...</button></div><div class=\"tab-container\"><div class=\"more-links-container result-tab\"><div class=\"more_links\"><button aria-label=\"Close\" class=\"close-button\" title=\"Close\" type=\"button\"></button><ul><li><span class=\"mat\">View all <a class=\"css-1f8zkg3 e19afand0\" href=\"/q-yelp-jobs.html\">Yelp jobs</a> - <a class=\"css-1f8zkg3 e19afand0\" href=\"/l-toronto,-on-jobs.html\">Toronto jobs</a> - <a class=\"css-1f8zkg3 e19afand0\" href=\"/q-senior-product-manager-l-toronto,-on-jobs.html\">Senior Product Manager jobs in Toronto, ON</a></span></li><li><span class=\"mat\">Salary Search: <a class=\"css-1f8zkg3 e19afand0\" href=\"/career/senior-product-manager/salaries/Toronto--ON?campaignid=serp-more&amp;fromjk=bd66ddb33329eb0e&amp;from=serp-more\">Senior Product Manager - Local Biz, Monetization (Remote - Canada) salaries in Toronto, ON</a></span></li><li><span class=\"mat\">See popular <a class=\"css-1f8zkg3 e19afand0\" href=\"/cmp/Yelp/faq\">questions &amp; answers about Yelp</a></span></li></ul></div></div></div></td></tr></tbody></table><div class=\"ctaContainer\"></div><div aria-live=\"polite\"></div></div></div><div class=\"slider_sub_item css-kyg8or eu4oa1w0\"></div></div></div><div aria-labelledby=\"jobActionButton-bd66ddb33329eb0e jobTitle-bd66ddb33329eb0e\" class=\"css-1sw7yod eu4oa1w0\" role=\"group\"><span aria-live=\"polite\" class=\"visually-hidden css-10pe3me eu4oa1w0\"></span><button aria-expanded=\"false\" aria-haspopup=\"true\" aria-label=\"Job Actions menu is collapsed\" class=\"kebabMenu-button css-1962qdo e8ju0x51\" id=\"jobActionButton-bd66ddb33329eb0e\"><svg aria-hidden=\"true\" fill=\"none\" height=\"24\" role=\"presentation\" viewbox=\"0 0 24 24\" width=\"24\" xmlns=\"http://www.w3.org/2000/svg\"><path d=\"M12 7C13.1 7 14 6.1 14 5C14 3.9 13.1 3 12 3C10.9 3 10 3.9 10 5C10 6.1 10.9 7 12 7ZM12 10C10.9 10 10 10.9 10 12C10 13.1 10.9 14 12 14C13.1 14 14 13.1 14 12C14 10.9 13.1 10 12 10ZM12 17C10.9 17 10 17.9 10 19C10 20.1 10.9 21 12 21C13.1 21 14 20.1 14 19C14 17.9 13.1 17 12 17Z\" fill=\"#2d2d2d\"></path></svg></button></div></div>, <div class=\"cardOutline tapItem dd-privacy-allow result job_424bc71f1923127b resultWithShelf sponTapItem desktop css-kyg8or eu4oa1w0\"><div class=\"slider_container css-8xisqv eu4oa1w0\" dir=\"auto\"><div class=\"slider_list css-kyg8or eu4oa1w0\"><div class=\"slider_item css-kyg8or eu4oa1w0\"><div class=\"job_seen_beacon\" style=\"border-top:\"><table cellpadding=\"0\" cellspacing=\"0\" class=\"jobCard_mainContent big6_visualChanges\" role=\"presentation\"><tbody><tr><td class=\"resultContent\"><div class=\"css-1m4cuuf e37uo190\"><h2 class=\"jobTitle css-1u6tfqq eu4oa1w0\" tabindex=\"-1\"><a aria-label=\"full details of Manager, Product Management\" class=\"jcs-JobTitle css-jspxzf eu4oa1w0\" data-hide-spinner=\"true\" data-hiring-event=\"false\" data-jk=\"424bc71f1923127b\" data-mobtk=\"1hdbt92cik7ho800\" href=\"/rc/clk?jk=424bc71f1923127b&amp;fccid=10b5c722d846df43&amp;vjs=3\" id=\"job_424bc71f1923127b\" role=\"button\"><span id=\"jobTitle-424bc71f1923127b\" title=\"Manager, Product Management\">Manager, Product Management</span></a></h2></div><div class=\"heading6 company_location tapItem-gutter companyInfo\"><div><span class=\"companyName\">Mastercard</span><div class=\"companyLocation\">Toronto, ON</div></div></div><div class=\"heading6 tapItem-gutter metadataContainer noJEMChips salaryOnly\"><div class=\"metadata\"><div class=\"css-1ihavw2 eu4oa1w0\" data-testid=\"attribute_snippet_testid\">Full-time</div></div></div><div class=\"heading6 error-text tapItem-gutter\"></div></td></tr></tbody></table><table class=\"css-1u8dvic eu4oa1w0\" role=\"presentation\"><tbody><tr class=\"css-mvf9iq eu4oa1w0\"></tr><tr class=\"underShelfFooter\"><td><div class=\"heading6 tapItem-gutter result-footer\"><div class=\"job-snippet\"><ul style=\"list-style-type:circle;margin-top: 0px;margin-bottom: 0px;padding-left:20px;\">\n",
      "<li>Monitor <b>product</b> performance, provide feedback, define or approve/disapprove change control processes, and manage vendor relationships.</li>\n",
      "</ul></div><span class=\"date\"><span class=\"visually-hidden\">Posted</span>Posted 9 days ago</span><span class=\"result-link-bar-separator\">·</span><button aria-expanded=\"false\" class=\"sl resultLink more_links_button\" type=\"button\">More...</button></div><div class=\"tab-container\"><div class=\"more-links-container result-tab\"><div class=\"more_links\"><button aria-label=\"Close\" class=\"close-button\" title=\"Close\" type=\"button\"></button><ul><li><span class=\"mat\">View all <a class=\"css-1f8zkg3 e19afand0\" href=\"/q-mastercard-jobs.html\">Mastercard jobs</a> - <a class=\"css-1f8zkg3 e19afand0\" href=\"/l-toronto,-on-jobs.html\">Toronto jobs</a> - <a class=\"css-1f8zkg3 e19afand0\" href=\"/q-director-of-product-management-l-toronto,-on-jobs.html\">Director of Product Management jobs in Toronto, ON</a></span></li><li><span class=\"mat\">Salary Search: <a class=\"css-1f8zkg3 e19afand0\" href=\"/career/director-of-product-management/salaries/Toronto--ON?campaignid=serp-more&amp;fromjk=424bc71f1923127b&amp;from=serp-more\">Manager, Product Management salaries in Toronto, ON</a></span></li><li><span class=\"mat\">See popular <a class=\"css-1f8zkg3 e19afand0\" href=\"/cmp/Mastercard/faq\">questions &amp; answers about Mastercard</a></span></li></ul></div></div></div></td></tr></tbody></table><div class=\"ctaContainer\"></div><div aria-live=\"polite\"></div></div></div><div class=\"slider_sub_item css-kyg8or eu4oa1w0\"></div></div></div><div aria-labelledby=\"jobActionButton-424bc71f1923127b jobTitle-424bc71f1923127b\" class=\"css-1sw7yod eu4oa1w0\" role=\"group\"><span aria-live=\"polite\" class=\"visually-hidden css-10pe3me eu4oa1w0\"></span><button aria-expanded=\"false\" aria-haspopup=\"true\" aria-label=\"Job Actions menu is collapsed\" class=\"kebabMenu-button css-1962qdo e8ju0x51\" id=\"jobActionButton-424bc71f1923127b\"><svg aria-hidden=\"true\" fill=\"none\" height=\"24\" role=\"presentation\" viewbox=\"0 0 24 24\" width=\"24\" xmlns=\"http://www.w3.org/2000/svg\"><path d=\"M12 7C13.1 7 14 6.1 14 5C14 3.9 13.1 3 12 3C10.9 3 10 3.9 10 5C10 6.1 10.9 7 12 7ZM12 10C10.9 10 10 10.9 10 12C10 13.1 10.9 14 12 14C13.1 14 14 13.1 14 12C14 10.9 13.1 10 12 10ZM12 17C10.9 17 10 17.9 10 19C10 20.1 10.9 21 12 21C13.1 21 14 20.1 14 19C14 17.9 13.1 17 12 17Z\" fill=\"#2d2d2d\"></path></svg></button></div></div>, <div class=\"cardOutline tapItem dd-privacy-allow result job_ebdbc945b79e5bd3 sponsoredJob resultWithShelf sponTapItem desktop css-kyg8or eu4oa1w0\"><div class=\"slider_container css-8xisqv eu4oa1w0\" dir=\"auto\"><div class=\"slider_list css-kyg8or eu4oa1w0\"><div class=\"slider_item css-kyg8or eu4oa1w0\"><div class=\"job_seen_beacon\" style=\"border-top:\"><table cellpadding=\"0\" cellspacing=\"0\" class=\"jobCard_mainContent big6_visualChanges\" role=\"presentation\"><tbody><tr><td class=\"resultContent\"><div class=\"css-1m4cuuf e37uo190\"><h2 class=\"jobTitle css-1u6tfqq eu4oa1w0\" tabindex=\"-1\"><a aria-label=\"full details of Marketing Communications Manager - Digital, Credit Card Products\" class=\"jcs-JobTitle css-jspxzf eu4oa1w0\" data-ci=\"408513554\" data-empn=\"1829987762090890\" data-hide-spinner=\"true\" data-hiring-event=\"false\" data-jk=\"ebdbc945b79e5bd3\" data-mobtk=\"1hdbt92cik7ho800\" href=\"/pagead/clk?mo=r&amp;ad=-6NYlbfkN0BreR47D9bMWJ28XlwS8rs2_GIFY3-vSdy_Xwl-swcV-ldpN3v4HL8bjTQCHyvXR2o3yY4TclxwO7hJvvBY3pzZat4Vjfh94rJ2yi5FjdN4E3znV_gKhJ-HkXWALWrTPng4OSuioTWRzMKJYiEe9ICRO5xnqFaWtAs0cQgDroDLsDtuDZpfnivPx1pxgwxXojaa6IiczzZIUWZ2JZYtLFqaxigBz6l6h2cXgXV8eFFa3QmAnSI4lmJiCUcs59JqfYWTvrp-N2adYWCbisAe5IMM_iENG0elVyZNFNZMOwS-_H8Rz-JDIg8bShQm3lHBosrOBhQs212R1gLOORr5avRFwviVovBE3XvtgBizS6JDZGc7uUyDvOiHJc9UxlBhPcJAuwiF1RtaAPO7CyYhdyG0oTeUlf5K78bf3w98ZiHrHikFk-r8sQsYoeQKoLMJpA3gV8vhgzYnoOZw8WZF_1iTEyrC_T9dVKWojl3Bi5L6StG3fajw0is2TIyfGGYfy2NjqC4B6yC8rVTblOQ0lwb9Kdap_N42KTxIE6FVjzsNGB7_zRh-E3fhSohynpCBt04l8Py4zeck-crp-cT1FheXKQktBnAHkmqlkHUH_MgEU2UZc7rwq86r3jZ7eb_wc_zOXBwo15z2trdj_S09R3vzMKo_WaZ0GZCaTL5-uxx3WXNQVxo0qI7RNeihUMWNiPIUK7V7ALuWPZHeOSFf5smEEi9_GMIwtiK1rb_Sa7kj9twyp74OvOKLcYy9vPP3Or_GDH4sbJQ8NIaPxUs596cvz6bRmiSht7C1D6q_Mr-m6BfVMebxKplW7ob5H6v-t9zxUE5uRnC8pQ==&amp;xkcb=SoAy-_M3JryrlCRJt50ibzkdCdPP&amp;p=12&amp;fvj=0&amp;vjs=3\" id=\"sj_ebdbc945b79e5bd3\" role=\"button\"><span id=\"jobTitle-ebdbc945b79e5bd3\" title=\"Marketing Communications Manager - Digital, Credit Card Products\">Marketing Communications Manager - Digital, Credit Card Products</span></a></h2></div><div class=\"heading6 company_location tapItem-gutter companyInfo\"><div><span class=\"companyName\">Procom</span><div class=\"companyLocation\">Toronto, ON</div></div></div><div class=\"heading6 tapItem-gutter metadataContainer noJEMChips salaryOnly\"><div class=\"metadata\"><div class=\"css-1ihavw2 eu4oa1w0\" data-testid=\"attribute_snippet_testid\">Fixed term contract</div></div></div><div class=\"heading6 error-text tapItem-gutter\"></div></td></tr></tbody></table><table class=\"css-1u8dvic eu4oa1w0\" role=\"presentation\"><tbody><tr class=\"css-mvf9iq eu4oa1w0\"><td class=\"css-f0vvwa eu4oa1w0\"><span class=\"iaIcon\"></span><span class=\"ialbl iaTextBlack\" data-testid=\"indeedApply\">Easily apply</span></td></tr><tr class=\"underShelfFooter\"><td><div class=\"heading6 tapItem-gutter result-footer\"><div class=\"job-snippet\"><ul style=\"list-style-type:circle;margin-top: 0px;margin-bottom: 0px;padding-left:20px;\">\n",
      "<li style=\"margin-bottom:0px;\">Financial services experience including knowledge of retail banking <b>products</b> - Credit Cards preferred.</li>\n",
      "<li>Able to influence internal partners and stakeholders.</li>\n",
      "</ul></div><span class=\"date\"><span class=\"visually-hidden\">Posted</span>Posted 10 days ago</span></div></td></tr></tbody></table><div class=\"ctaContainer\"></div><div aria-live=\"polite\"></div></div></div><div class=\"slider_sub_item css-kyg8or eu4oa1w0\"></div></div></div><div aria-labelledby=\"jobActionButton-ebdbc945b79e5bd3 jobTitle-ebdbc945b79e5bd3\" class=\"css-1sw7yod eu4oa1w0\" role=\"group\"><span aria-live=\"polite\" class=\"visually-hidden css-10pe3me eu4oa1w0\"></span><button aria-expanded=\"false\" aria-haspopup=\"true\" aria-label=\"Job Actions menu is collapsed\" class=\"kebabMenu-button css-1962qdo e8ju0x51\" id=\"jobActionButton-ebdbc945b79e5bd3\"><svg aria-hidden=\"true\" fill=\"none\" height=\"24\" role=\"presentation\" viewbox=\"0 0 24 24\" width=\"24\" xmlns=\"http://www.w3.org/2000/svg\"><path d=\"M12 7C13.1 7 14 6.1 14 5C14 3.9 13.1 3 12 3C10.9 3 10 3.9 10 5C10 6.1 10.9 7 12 7ZM12 10C10.9 10 10 10.9 10 12C10 13.1 10.9 14 12 14C13.1 14 14 13.1 14 12C14 10.9 13.1 10 12 10ZM12 17C10.9 17 10 17.9 10 19C10 20.1 10.9 21 12 21C13.1 21 14 20.1 14 19C14 17.9 13.1 17 12 17Z\" fill=\"#2d2d2d\"></path></svg></button></div></div>, <div class=\"cardOutline tapItem dd-privacy-allow result job_0838c4352e0d70f4 resultWithShelf sponTapItem desktop css-kyg8or eu4oa1w0\"><div class=\"slider_container css-8xisqv eu4oa1w0\" dir=\"auto\"><div class=\"slider_list css-kyg8or eu4oa1w0\"><div class=\"slider_item css-kyg8or eu4oa1w0\"><div class=\"job_seen_beacon\" style=\"border-top:\"><table cellpadding=\"0\" cellspacing=\"0\" class=\"jobCard_mainContent big6_visualChanges\" role=\"presentation\"><tbody><tr><td class=\"resultContent\"><div class=\"css-1m4cuuf e37uo190\"><h2 class=\"jobTitle css-1u6tfqq eu4oa1w0\" tabindex=\"-1\"><a aria-label=\"full details of Associate Product Manager\" class=\"jcs-JobTitle css-jspxzf eu4oa1w0\" data-hide-spinner=\"true\" data-hiring-event=\"false\" data-jk=\"0838c4352e0d70f4\" data-mobtk=\"1hdbt92cik7ho800\" href=\"/rc/clk?jk=0838c4352e0d70f4&amp;fccid=6153417a28213016&amp;vjs=3\" id=\"job_0838c4352e0d70f4\" role=\"button\"><span id=\"jobTitle-0838c4352e0d70f4\" title=\"Associate Product Manager\">Associate Product Manager</span></a></h2></div><div class=\"heading6 company_location tapItem-gutter companyInfo\"><div><span class=\"companyName\">DM Lyons Consulting</span><div class=\"companyLocation\">Toronto, ON</div></div></div><div class=\"heading6 tapItem-gutter metadataContainer noJEMChips salaryOnly\"><div class=\"metadata salary-snippet-container\"><div class=\"css-1ihavw2 eu4oa1w0\" data-testid=\"attribute_snippet_testid\">$70,000–$80,000 a year</div></div></div><div class=\"heading6 error-text tapItem-gutter\"></div></td></tr></tbody></table><table class=\"css-1u8dvic eu4oa1w0\" role=\"presentation\"><tbody><tr class=\"css-mvf9iq eu4oa1w0\"></tr><tr class=\"underShelfFooter\"><td><div class=\"heading6 tapItem-gutter result-footer\"><div class=\"job-snippet\"><ul style=\"list-style-type:circle;margin-top: 0px;margin-bottom: 0px;padding-left:20px;\">\n",
      "<li style=\"margin-bottom:0px;\">Conduct market research and gather customer insights to inform ongoing <b>product</b> strategy and decision-making.</li>\n",
      "<li>Work with vendor partners to ensure ongoing success…</li>\n",
      "</ul></div><span class=\"date\"><span class=\"visually-hidden\">Posted</span>Posted 10 days ago</span><span class=\"result-link-bar-separator\">·</span><button aria-expanded=\"false\" class=\"sl resultLink more_links_button\" type=\"button\">More...</button></div><div class=\"tab-container\"><div class=\"more-links-container result-tab\"><div class=\"more_links\"><button aria-label=\"Close\" class=\"close-button\" title=\"Close\" type=\"button\"></button><ul><li><span class=\"mat\">View all <a class=\"css-1f8zkg3 e19afand0\" href=\"/q-dm-lyons-consulting-jobs.html\">DM Lyons Consulting jobs</a> - <a class=\"css-1f8zkg3 e19afand0\" href=\"/l-toronto,-on-jobs.html\">Toronto jobs</a></span></li><li><span class=\"mat\">Salary Search: <a class=\"css-1f8zkg3 e19afand0\" href=\"/career/associate-product-manager/salaries/Toronto--ON?campaignid=serp-more&amp;fromjk=0838c4352e0d70f4&amp;from=serp-more\">Associate Product Manager salaries in Toronto, ON</a></span></li></ul></div></div></div></td></tr></tbody></table><div class=\"ctaContainer\"></div><div aria-live=\"polite\"></div></div></div><div class=\"slider_sub_item css-kyg8or eu4oa1w0\"></div></div></div><div aria-labelledby=\"jobActionButton-0838c4352e0d70f4 jobTitle-0838c4352e0d70f4\" class=\"css-1sw7yod eu4oa1w0\" role=\"group\"><span aria-live=\"polite\" class=\"visually-hidden css-10pe3me eu4oa1w0\"></span><button aria-expanded=\"false\" aria-haspopup=\"true\" aria-label=\"Job Actions menu is collapsed\" class=\"kebabMenu-button css-1962qdo e8ju0x51\" id=\"jobActionButton-0838c4352e0d70f4\"><svg aria-hidden=\"true\" fill=\"none\" height=\"24\" role=\"presentation\" viewbox=\"0 0 24 24\" width=\"24\" xmlns=\"http://www.w3.org/2000/svg\"><path d=\"M12 7C13.1 7 14 6.1 14 5C14 3.9 13.1 3 12 3C10.9 3 10 3.9 10 5C10 6.1 10.9 7 12 7ZM12 10C10.9 10 10 10.9 10 12C10 13.1 10.9 14 12 14C13.1 14 14 13.1 14 12C14 10.9 13.1 10 12 10ZM12 17C10.9 17 10 17.9 10 19C10 20.1 10.9 21 12 21C13.1 21 14 20.1 14 19C14 17.9 13.1 17 12 17Z\" fill=\"#2d2d2d\"></path></svg></button></div></div>, <div class=\"cardOutline tapItem dd-privacy-allow result job_0e1451254c9452bf resultWithShelf sponTapItem desktop css-kyg8or eu4oa1w0\"><div class=\"slider_container css-8xisqv eu4oa1w0\" dir=\"auto\"><div class=\"slider_list css-kyg8or eu4oa1w0\"><div class=\"slider_item css-kyg8or eu4oa1w0\"><div class=\"job_seen_beacon\" style=\"border-top:\"><table cellpadding=\"0\" cellspacing=\"0\" class=\"jobCard_mainContent big6_visualChanges\" role=\"presentation\"><tbody><tr><td class=\"resultContent\"><div class=\"css-1m4cuuf e37uo190\"><h2 class=\"jobTitle css-1u6tfqq eu4oa1w0\" tabindex=\"-1\"><a aria-label=\"full details of Product Manager\" class=\"jcs-JobTitle css-jspxzf eu4oa1w0\" data-hide-spinner=\"true\" data-hiring-event=\"false\" data-jk=\"0e1451254c9452bf\" data-mobtk=\"1hdbt92cik7ho800\" href=\"/company/RED-THREAD-INNOVATIONS/jobs/Product-Manager-0e1451254c9452bf?fccid=c7a913aa7125ce9d&amp;vjs=3\" id=\"job_0e1451254c9452bf\" role=\"button\"><span id=\"jobTitle-0e1451254c9452bf\" title=\"Product Manager\">Product Manager</span></a></h2></div><div class=\"heading6 company_location tapItem-gutter companyInfo\"><div><span class=\"companyName\">Red Thread Innovations Inc</span><div class=\"companyLocation\">Greater Toronto Area, ON</div></div></div><div class=\"heading6 tapItem-gutter metadataContainer noJEMChips salaryOnly\"><div class=\"metadata\"><div class=\"css-1ihavw2 eu4oa1w0\" data-testid=\"attribute_snippet_testid\">Full-time</div></div></div><div class=\"heading6 error-text tapItem-gutter\"></div></td></tr></tbody></table><table class=\"css-1u8dvic eu4oa1w0\" role=\"presentation\"><tbody><tr class=\"css-mvf9iq eu4oa1w0\"></tr><tr class=\"underShelfFooter\"><td><div class=\"heading6 tapItem-gutter result-footer\"><div class=\"job-snippet\"><ul style=\"list-style-type:circle;margin-top: 0px;margin-bottom: 0px;padding-left:20px;\">\n",
      "<li>Plan and lead discovery activities including customer research, market research, and rapid prototyping to achieve problem-solution and product-market fit.</li>\n",
      "</ul></div><span class=\"date\"><span class=\"visually-hidden\">Posted</span>Posted 8 days ago</span><span class=\"result-link-bar-separator\">·</span><button aria-expanded=\"false\" class=\"sl resultLink more_links_button\" type=\"button\">More...</button></div><div class=\"tab-container\"><div class=\"more-links-container result-tab\"><div class=\"more_links\"><button aria-label=\"Close\" class=\"close-button\" title=\"Close\" type=\"button\"></button><ul><li><span class=\"mat\">View all <a class=\"css-1f8zkg3 e19afand0\" href=\"/q-red-thread-innovations-inc-jobs.html\">Red Thread Innovations Inc jobs</a> - <a class=\"css-1f8zkg3 e19afand0\" href=\"/l-greater-toronto-area,-on-jobs.html\">Greater Toronto Area jobs</a></span></li><li><span class=\"mat\">Salary Search: <a class=\"css-1f8zkg3 e19afand0\" href=\"/career/product-manager/salaries/Greater-Toronto-Area--ON?campaignid=serp-more&amp;fromjk=0e1451254c9452bf&amp;from=serp-more\">Product Manager salaries in Greater Toronto Area, ON</a></span></li></ul></div></div></div></td></tr></tbody></table><div class=\"ctaContainer\"></div><div aria-live=\"polite\"></div></div></div><div class=\"slider_sub_item css-kyg8or eu4oa1w0\"></div></div></div><div aria-labelledby=\"jobActionButton-0e1451254c9452bf jobTitle-0e1451254c9452bf\" class=\"css-1sw7yod eu4oa1w0\" role=\"group\"><span aria-live=\"polite\" class=\"visually-hidden css-10pe3me eu4oa1w0\"></span><button aria-expanded=\"false\" aria-haspopup=\"true\" aria-label=\"Job Actions menu is collapsed\" class=\"kebabMenu-button css-1962qdo e8ju0x51\" id=\"jobActionButton-0e1451254c9452bf\"><svg aria-hidden=\"true\" fill=\"none\" height=\"24\" role=\"presentation\" viewbox=\"0 0 24 24\" width=\"24\" xmlns=\"http://www.w3.org/2000/svg\"><path d=\"M12 7C13.1 7 14 6.1 14 5C14 3.9 13.1 3 12 3C10.9 3 10 3.9 10 5C10 6.1 10.9 7 12 7ZM12 10C10.9 10 10 10.9 10 12C10 13.1 10.9 14 12 14C13.1 14 14 13.1 14 12C14 10.9 13.1 10 12 10ZM12 17C10.9 17 10 17.9 10 19C10 20.1 10.9 21 12 21C13.1 21 14 20.1 14 19C14 17.9 13.1 17 12 17Z\" fill=\"#2d2d2d\"></path></svg></button></div></div>]\n",
      "[]\n"
     ]
    }
   ],
   "source": [
    "# product%20manager&l=Toronto%2C%20ON&from=searchOnHP\n",
    "\n",
    "\n",
    "allData = soup.find(\"ul\",{\"class\":\"jobsearch-ResultsList css-0\"})\n",
    "alllitags = soup.find_all(\"div\",{\"class\":\"cardOutline\"})\n",
    "try:\n",
    "    o[\"name-of-the-company\"]=alllitags[i].find(\"div\",{\"class\":\"companyInfo\"}).find(\"span\",{\"class\":\"companyName\"}).text\n",
    "except:\n",
    "    o[\"name-of-the-company\"]=None\n",
    "\n",
    "for posting in soup.find_all(\"div\", class_=\"jobsearch-SerpJobCard\"):\n",
    "    title = posting.find(\"span\", class_=\"JobTitle\").text.strip()\n",
    "    company = posting.find(\"span\", class_=\"company\").text.strip()\n",
    "    location = posting.find(\"span\", class_=\"location\").text.strip()\n",
    "    summary = posting.find(\"div\", class_=\"summary\").text.strip()\n",
    "    job_postings.append({\"title\": title, \"company\": company, \"location\": location, \"summary\": summary})\n",
    "\n",
    "print(x)"
   ]
  },
  {
   "cell_type": "code",
   "execution_count": 60,
   "metadata": {},
   "outputs": [
    {
     "name": "stdout",
     "output_type": "stream",
     "text": [
      "https://ca.indeed.com/jobs?q=\"product+manager\"&l=Toronto,+ON&from=searchOnHP&vjk=2535f7845dd6e79a\n",
      "15\n",
      "{'name-of-the-job': 'Digital Product Manager/Owner', 'name-of-the-company': 'BMO Financial Group', 'location': 'Toronto, ON', 'rating': None, 'salary': None, 'job-details': None}\n",
      "{'name-of-the-job': 'Product Manager', 'name-of-the-company': 'Ontario Health', 'location': 'Hybrid remote in Toronto, ON', 'rating': None, 'salary': None, 'job-details': None}\n",
      "{'name-of-the-job': 'Product Manager, Mobile Experience - Remote', 'name-of-the-company': 'Dropbox', 'location': 'Remote in Toronto, ON', 'rating': None, 'salary': None, 'job-details': None}\n",
      "{'name-of-the-job': 'Senior Product Manager', 'name-of-the-company': 'Ontario Health', 'location': 'Hybrid remote in Toronto, ON', 'rating': None, 'salary': None, 'job-details': None}\n",
      "{'name-of-the-job': 'Product Owner / Product Manager (Application Development)', 'name-of-the-company': 'AFX INFRASTRUCTURE CONSULTING', 'location': 'Hybrid remote in Mississauga, ON', 'rating': None, 'salary': '$75–$90 an hour', 'job-details': None}\n",
      "{'name-of-the-job': 'UX Designer', 'name-of-the-company': 'AutoTrader.ca', 'location': 'Hybrid remote in Toronto, ON', 'rating': None, 'salary': None, 'job-details': None}\n",
      "{'name-of-the-job': 'Senior Software Engineer', 'name-of-the-company': 'Ontario Health', 'location': 'Hybrid remote in Toronto, ON', 'rating': None, 'salary': None, 'job-details': None}\n",
      "{'name-of-the-job': 'Lead Product Manager', 'name-of-the-company': 'HONK', 'location': 'Remote in Toronto, ON', 'rating': None, 'salary': '$100,000–$140,000 a year', 'job-details': None}\n",
      "{'name-of-the-job': 'Senior Product Manager', 'name-of-the-company': 'Microsoft', 'location': 'Toronto, ON', 'rating': None, 'salary': None, 'job-details': None}\n",
      "{'name-of-the-job': 'Manager, Product Management', 'name-of-the-company': 'Mastercard', 'location': 'Toronto, ON', 'rating': None, 'salary': None, 'job-details': None}\n",
      "{'name-of-the-job': 'Product Manager - Educators', 'name-of-the-company': 'Prodigy Education', 'location': 'Remote in Greater Toronto Area, ON', 'rating': None, 'salary': None, 'job-details': None}\n",
      "{'name-of-the-job': 'Product Manager, 12 month contract', 'name-of-the-company': 'Xero', 'location': 'Toronto, ON', 'rating': None, 'salary': None, 'job-details': None}\n",
      "{'name-of-the-job': 'Business Analyst (Retail/Supply Chain)', 'name-of-the-company': 'WilsonCTS', 'location': 'Mississauga, ON', 'rating': None, 'salary': None, 'job-details': None}\n",
      "{'name-of-the-job': 'Associate Product Manager', 'name-of-the-company': 'Traction', 'location': 'Toronto, ON', 'rating': None, 'salary': None, 'job-details': None}\n",
      "{'name-of-the-job': 'Product Manager', 'name-of-the-company': 'BlazeSoft', 'location': 'Concord, ON', 'rating': None, 'salary': None, 'job-details': None}\n"
     ]
    }
   ],
   "source": [
    "\n",
    "\n",
    "l=[]\n",
    "o={}\n",
    "\n",
    "\n",
    "#target_url = \"https://api.scrapingdog.com/scrape?api_key=xxxxxxxxxxxxxxxx&url=https://www.indeed.com/jobs?q=python&l=New+York%2C+NY&vjk=8bf2e735050604df&dynamic=false\"\n",
    "\n",
    "soup = extract_job_postings_from_indeed(\"\\\"product+manager\\\"\", \"Toronto,+ON\")\n",
    "\n",
    "allData = soup.find(\"ul\",{\"class\":\"jobsearch-ResultsList css-0\"})\n",
    "\n",
    "alllitags = soup.find_all(\"div\",{\"class\":\"cardOutline\"})\n",
    "print(len(alllitags))\n",
    "for i in range(0,len(alllitags)):\n",
    "    try:\n",
    "        o[\"name-of-the-job\"]=alllitags[i].find(\"a\",{\"class\":\"jcs-JobTitle css-jspxzf eu4oa1w0\"}).text\n",
    "    except:\n",
    "        o[\"name-of-the-job\"]=None\n",
    "\n",
    "    try:\n",
    "        o[\"name-of-the-company\"]=alllitags[i].find(\"div\",{\"class\":\"companyInfo\"}).find(\"span\",{\"class\":\"companyName\"}).text\n",
    "    except:\n",
    "        o[\"name-of-the-company\"]=None\n",
    "\n",
    "    try:\n",
    "        o[\"location\"]=alllitags[i].find(\"div\",{\"class\":\"companyInfo\"}).find(\"div\",{\"class\":\"companyLocation\"}).text\n",
    "    except:\n",
    "        o[\"location\"]=None\n",
    "\n",
    "        \n",
    "\n",
    "\n",
    "    try:\n",
    "        o[\"rating\"]=alllitags[i].find(\"div\",{\"class\":\"companyInfo\"}).find(\"span\",{\"class\":\"ratingsDisplay\"}).text\n",
    "    except:\n",
    "        o[\"rating\"]=None\n",
    "\n",
    "    try:\n",
    "        o[\"salary\"]=alllitags[i].find(\"div\",{\"class\":\"salary-snippet-container\"}).text\n",
    "    except:\n",
    "        o[\"salary\"]=None\n",
    "\n",
    "    try:\n",
    "        o[\"job-details\"]=alllitags[i].find(\"div\",{\"class\":\"metadata taxoAttributes-container\"}).find(\"ul\").text\n",
    "    except:\n",
    "        o[\"job-details\"]=None\n",
    "\n",
    "    l.append(o)\n",
    "    o={}\n",
    "\n",
    "for ll in l:\n",
    "    print(ll)"
   ]
  },
  {
   "cell_type": "code",
   "execution_count": 31,
   "metadata": {},
   "outputs": [],
   "source": [
    "def extract_job_postings_from_linkedin(query, location):\n",
    "    url = f\"https://www.linkedin.com/jobs/search/?keywords={query}&location={location}\"\n",
    "    driver = webdriver.Chrome() # or specify the path to your chromedriver executable\n",
    "    driver.get(url)\n",
    "    soup = BeautifulSoup(driver.page_source, \"html.parser\")\n",
    "    job_postings = []\n",
    "    for posting in soup.find_all(\"li\", class_=\"result-card\"):\n",
    "        title = posting.find(\"h3\", class_=\"result-card__title\").text.strip()\n",
    "        company = posting.find(\"a\", class_=\"result-card__subtitle-link\").text.strip()\n",
    "        location = posting.find(\"span\", class_=\"job-result-card__location\").text.strip()\n",
    "        summary = posting.find(\"div\", class_=\"result-card__contents\").text.strip()\n",
    "        job_postings.append({\"title\": title, \"company\": company, \"location\": location, \"summary\": summary})\n",
    "    driver.quit()\n",
    "    return job_postings"
   ]
  },
  {
   "cell_type": "code",
   "execution_count": 35,
   "metadata": {},
   "outputs": [
    {
     "name": "stdout",
     "output_type": "stream",
     "text": [
      "https://ca.indeed.com/jobs?q=product+manager&l=Toronto,+ON&from=searchOnHP&vjk=2535f7845dd6e79a\n",
      "<Response [403]>\n"
     ]
    }
   ],
   "source": [
    "# url = f\"https://ca.indeed.com/jobs?q=product+manager&l=Toronto,+ON&from=searchOnHP&vjk=2535f7845dd6e79a\"\n",
    "# driver = webdriver.Chrome() # or specify the path to your chromedriver executable\n",
    "# driver.get(url)\n",
    "# print(driver.page_source)\n",
    "\n",
    "url = \"https://ca.indeed.com/jobs?q=product+manager&l=Toronto,+ON&from=searchOnHP&vjk=2535f7845dd6e79a\"\n",
    "headers = {'User-Agent': 'Mozilla/5.0 (Windows NT 10.0; Win64; x64) AppleWebKit/537.36 (KHTML, like Gecko) Chrome/116.0.0.0 Safari/537.36 Edg/116.0.1938.54'}\n",
    "\n",
    "page = requests.get(url,headers=headers)\n",
    "print(url)\n",
    "print(page)"
   ]
  },
  {
   "cell_type": "code",
   "execution_count": null,
   "metadata": {},
   "outputs": [],
   "source": [
    "x=extract_job_postings_from_linkedin(\"product+manager\", \"Toronto,+ON\")"
   ]
  },
  {
   "cell_type": "code",
   "execution_count": 33,
   "metadata": {},
   "outputs": [
    {
     "name": "stdout",
     "output_type": "stream",
     "text": [
      "[]\n"
     ]
    }
   ],
   "source": [
    "print(x)"
   ]
  },
  {
   "cell_type": "code",
   "execution_count": 38,
   "metadata": {},
   "outputs": [],
   "source": [
    "# product%20manager&l=Toronto%2C%20ON&from=searchOnHP\n",
    "\n",
    "x=extract_job_postings_from_indeed(\"product+manager\", \"Toronto,+ON\")"
   ]
  },
  {
   "cell_type": "code",
   "execution_count": 39,
   "metadata": {},
   "outputs": [
    {
     "name": "stdout",
     "output_type": "stream",
     "text": [
      "[]\n"
     ]
    }
   ],
   "source": [
    "print(x)"
   ]
  },
  {
   "cell_type": "code",
   "execution_count": 27,
   "metadata": {},
   "outputs": [
    {
     "name": "stdout",
     "output_type": "stream",
     "text": [
      "TLS 1.3\n"
     ]
    },
    {
     "name": "stderr",
     "output_type": "stream",
     "text": [
      "/Users/artiom/opt/anaconda3/envs/nlp/lib/python3.10/site-packages/urllib3/connectionpool.py:1045: InsecureRequestWarning: Unverified HTTPS request is being made to host 'www.howsmyssl.com'. Adding certificate verification is strongly advised. See: https://urllib3.readthedocs.io/en/1.26.x/advanced-usage.html#ssl-warnings\n",
      "  warnings.warn(\n"
     ]
    }
   ],
   "source": [
    "print(requests.get('https://www.howsmyssl.com/a/check', verify=False).json()['tls_version'])"
   ]
  },
  {
   "cell_type": "code",
   "execution_count": 42,
   "metadata": {},
   "outputs": [
    {
     "name": "stdout",
     "output_type": "stream",
     "text": [
      "<Response [403]>\n"
     ]
    }
   ],
   "source": [
    "l=[]\n",
    "o={}\n",
    "target_url = \"https://www.indeed.com/jobs?q=python&l=New+York%2C+NY&vjk=8bf2e735050604df\"\n",
    "head= {\"User-Agent\": \"Mozilla/5.0 (Windows NT 10.0; Win64; x64) AppleWebKit/537.36 (KHTML, like Gecko) Chrome/62.0.3202.94 Safari/537.36\",\n",
    "    \"Accept-Encoding\": \"gzip, deflate, br\",\n",
    "    \"Accept\": \"text/html,application/xhtml+xml,application/xml;q=0.9,image/webp,image/apng,*/*;q=0.8\",\n",
    "    \"Connection\": \"keep-alive\",\n",
    "    \"Accept-Language\": \"en-US,en;q=0.9,lt;q=0.8,et;q=0.7,de;q=0.6\",\n",
    "}\n",
    "resp = requests.get(target_url, headers=head)\n",
    "print(resp)\n",
    "soup = BeautifulSoup(resp.text, 'html.parser')\n",
    "\n",
    "allData = soup.find(\"ul\",{\"class\":\"jobsearch-ResultsList css-0\"})"
   ]
  },
  {
   "cell_type": "code",
   "execution_count": null,
   "metadata": {},
   "outputs": [],
   "source": []
  }
 ],
 "metadata": {
  "kernelspec": {
   "display_name": "nlp",
   "language": "python",
   "name": "python3"
  },
  "language_info": {
   "codemirror_mode": {
    "name": "ipython",
    "version": 3
   },
   "file_extension": ".py",
   "mimetype": "text/x-python",
   "name": "python",
   "nbconvert_exporter": "python",
   "pygments_lexer": "ipython3",
   "version": "3.10.12"
  }
 },
 "nbformat": 4,
 "nbformat_minor": 2
}
